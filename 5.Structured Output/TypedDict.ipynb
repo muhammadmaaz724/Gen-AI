{
 "cells": [
  {
   "cell_type": "markdown",
   "id": "3590ecac",
   "metadata": {},
   "source": [
    "# Testing"
   ]
  },
  {
   "cell_type": "code",
   "execution_count": 1,
   "id": "f0bea66e",
   "metadata": {},
   "outputs": [],
   "source": [
    "from typing import TypedDict"
   ]
  },
  {
   "cell_type": "code",
   "execution_count": 2,
   "id": "3c960ffd",
   "metadata": {},
   "outputs": [],
   "source": [
    "class person(TypedDict):\n",
    "    name: str\n",
    "    age: int"
   ]
  },
  {
   "cell_type": "code",
   "execution_count": 3,
   "id": "388786b9",
   "metadata": {},
   "outputs": [],
   "source": [
    "newPerson:person = {'name':\"Maaz\",'age':26}"
   ]
  },
  {
   "cell_type": "code",
   "execution_count": 4,
   "id": "913d99e3",
   "metadata": {},
   "outputs": [
    {
     "name": "stdout",
     "output_type": "stream",
     "text": [
      "{'name': 'Maaz', 'age': 26}\n"
     ]
    }
   ],
   "source": [
    "print(newPerson)"
   ]
  },
  {
   "cell_type": "markdown",
   "id": "7ce12107",
   "metadata": {},
   "source": [
    "# Task 1"
   ]
  },
  {
   "cell_type": "code",
   "execution_count": null,
   "id": "d692daf1",
   "metadata": {},
   "outputs": [],
   "source": [
    "from typing import TypedDict"
   ]
  },
  {
   "cell_type": "code",
   "execution_count": 6,
   "id": "79629f97",
   "metadata": {},
   "outputs": [],
   "source": [
    "load_dotenv()\n",
    "from langchain_core.prompts import ChatPromptTemplate, MessagesPlaceholder\n",
    "from langchain_huggingface import ChatHuggingFace,HuggingFaceEndpoint\n",
    "from dotenv import load_dotenv\n",
    "\n",
    "load_dotenv()\n",
    "llm = HuggingFaceEndpoint(\n",
    "    repo_id=\"mistralai/Mixtral-8x7B-Instruct-v0.1\",\n",
    "    task=\"text-generation\"\n",
    ")\n",
    "\n",
    "model = ChatHuggingFace(\n",
    "    llm=llm\n",
    ")"
   ]
  },
  {
   "cell_type": "code",
   "execution_count": 7,
   "id": "d3129a82",
   "metadata": {},
   "outputs": [],
   "source": [
    "class review(TypedDict):\n",
    "    summary: str\n",
    "    sentiment: str"
   ]
  },
  {
   "cell_type": "code",
   "execution_count": 8,
   "id": "53692fc2",
   "metadata": {},
   "outputs": [],
   "source": [
    "structured_model = model.with_structured_output(review)"
   ]
  },
  {
   "cell_type": "code",
   "execution_count": 9,
   "id": "b554c087",
   "metadata": {},
   "outputs": [],
   "source": [
    "res = structured_model.invoke(\"\"\"I’ve been using this phone for the past two weeks, and unfortunately, it has been a letdown in several key areas. First and foremost, the performance is sluggish — even basic tasks like switching between apps or loading the camera feel unnecessarily delayed. For a device in this price range, I expected much better responsiveness.\n",
    "\n",
    "The build quality is also underwhelming. The back feels cheap and plasticky, and the phone heats up quickly even with moderate usage. Battery life is another major issue — it barely lasts a full day on light use, which makes it unreliable for travel or work.\n",
    "\n",
    "The camera, which was advertised as a highlight, delivers oversaturated and grainy photos, especially in low light. The autofocus is inconsistent, often missing the subject entirely.\n",
    "\n",
    "Overall, this phone feels like a step backward rather than an upgrade. I would not recommend it, especially when there are more reliable options available at similar price points.\"\"\")"
   ]
  },
  {
   "cell_type": "code",
   "execution_count": 12,
   "id": "262774a0",
   "metadata": {},
   "outputs": [
    {
     "name": "stdout",
     "output_type": "stream",
     "text": [
      "{'sentiment': 'negative', 'summary': 'This phone has been a letdown in several key areas. Performance is sluggish, build quality is underwhelming, battery life is poor, and the camera delivers subpar images.'}\n"
     ]
    }
   ],
   "source": [
    "print(res)"
   ]
  },
  {
   "cell_type": "code",
   "execution_count": 13,
   "id": "f1d3c331",
   "metadata": {},
   "outputs": [
    {
     "name": "stdout",
     "output_type": "stream",
     "text": [
      "This phone has been a letdown in several key areas. Performance is sluggish, build quality is underwhelming, battery life is poor, and the camera delivers subpar images.\n",
      "negative\n"
     ]
    }
   ],
   "source": [
    "print(res[\"summary\"])\n",
    "print(res['sentiment'])"
   ]
  },
  {
   "cell_type": "code",
   "execution_count": null,
   "id": "5ab4a894",
   "metadata": {},
   "outputs": [],
   "source": []
  },
  {
   "cell_type": "markdown",
   "id": "94d33bcc",
   "metadata": {},
   "source": [
    "# Task 2"
   ]
  },
  {
   "cell_type": "code",
   "execution_count": 15,
   "id": "b31b7aae",
   "metadata": {},
   "outputs": [],
   "source": [
    "from typing import TypedDict,Optional,Literal,Annotated"
   ]
  },
  {
   "cell_type": "code",
   "execution_count": 21,
   "id": "9009c1ca",
   "metadata": {},
   "outputs": [],
   "source": [
    "class new_review(TypedDict):\n",
    "    summary: Annotated[str,\"write A brief overview of the review\"]\n",
    "    sentiment: Annotated[Literal['pos','neg'], 'Return the sentiment of the review as positive or negative']\n",
    "    pros:Annotated[Optional[list[str]],'write down all the pros in the review']\n",
    "    cons:Annotated[Optional[list[str]], 'write down all the cons in the reveiw']\n",
    "    name:Annotated[Optional[str],'name of the reviewer']"
   ]
  },
  {
   "cell_type": "code",
   "execution_count": 22,
   "id": "300a0eb7",
   "metadata": {},
   "outputs": [],
   "source": [
    "str_out = model.with_structured_output(new_review)"
   ]
  },
  {
   "cell_type": "code",
   "execution_count": 23,
   "id": "bd02d8c7",
   "metadata": {},
   "outputs": [],
   "source": [
    "res = str_out.invoke(\"\"\"I’ve been using this phone for the past two weeks, and unfortunately, it has been a letdown in several key areas. First and foremost, the performance is sluggish — even basic tasks like switching between apps or loading the camera feel unnecessarily delayed. For a device in this price range, I expected much better responsiveness.\n",
    "\n",
    "The build quality is also underwhelming. The back feels cheap and plasticky, and the phone heats up quickly even with moderate usage. Battery life is another major issue — it barely lasts a full day on light use, which makes it unreliable for travel or work.\n",
    "\n",
    "The camera, which was advertised as a highlight, delivers oversaturated and grainy photos, especially in low light. The autofocus is inconsistent, often missing the subject entirely.\n",
    "\n",
    "Overall, this phone feels like a step backward rather than an upgrade. I would not recommend it, especially when there are more reliable options available at similar price points.\"\"\")"
   ]
  },
  {
   "cell_type": "code",
   "execution_count": 28,
   "id": "a2f26c25",
   "metadata": {},
   "outputs": [
    {
     "name": "stdout",
     "output_type": "stream",
     "text": [
      "Anonymous Reviewer\n"
     ]
    }
   ],
   "source": [
    "print(res['name'])"
   ]
  },
  {
   "cell_type": "markdown",
   "id": "5aba9f57",
   "metadata": {},
   "source": [
    "# TypedDict does not provide any validation of the type of the variables we have declared in out class"
   ]
  },
  {
   "cell_type": "code",
   "execution_count": null,
   "id": "9acb32b1",
   "metadata": {},
   "outputs": [],
   "source": []
  }
 ],
 "metadata": {
  "kernelspec": {
   "display_name": "venv",
   "language": "python",
   "name": "python3"
  },
  "language_info": {
   "codemirror_mode": {
    "name": "ipython",
    "version": 3
   },
   "file_extension": ".py",
   "mimetype": "text/x-python",
   "name": "python",
   "nbconvert_exporter": "python",
   "pygments_lexer": "ipython3",
   "version": "3.12.2"
  }
 },
 "nbformat": 4,
 "nbformat_minor": 5
}
