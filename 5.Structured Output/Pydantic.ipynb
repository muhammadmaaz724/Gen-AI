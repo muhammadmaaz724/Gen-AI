{
 "cells": [
  {
   "cell_type": "code",
   "execution_count": 1,
   "id": "d567f5ba",
   "metadata": {},
   "outputs": [
    {
     "name": "stdout",
     "output_type": "stream",
     "text": [
      "Requirement already satisfied: pydantic in d:\\nlp\\gen-ai\\venv\\lib\\site-packages (2.11.7)\n",
      "Requirement already satisfied: annotated-types>=0.6.0 in d:\\nlp\\gen-ai\\venv\\lib\\site-packages (from pydantic) (0.7.0)\n",
      "Requirement already satisfied: pydantic-core==2.33.2 in d:\\nlp\\gen-ai\\venv\\lib\\site-packages (from pydantic) (2.33.2)\n",
      "Requirement already satisfied: typing-extensions>=4.12.2 in d:\\nlp\\gen-ai\\venv\\lib\\site-packages (from pydantic) (4.14.0)\n",
      "Requirement already satisfied: typing-inspection>=0.4.0 in d:\\nlp\\gen-ai\\venv\\lib\\site-packages (from pydantic) (0.4.1)\n"
     ]
    },
    {
     "name": "stderr",
     "output_type": "stream",
     "text": [
      "\n",
      "[notice] A new release of pip is available: 24.0 -> 25.1.1\n",
      "[notice] To update, run: python.exe -m pip install --upgrade pip\n"
     ]
    }
   ],
   "source": [
    "!pip install pydantic"
   ]
  },
  {
   "cell_type": "markdown",
   "id": "9a1ce2c6",
   "metadata": {},
   "source": [
    "# Test"
   ]
  },
  {
   "cell_type": "code",
   "execution_count": 2,
   "id": "e8a7bc29",
   "metadata": {},
   "outputs": [],
   "source": [
    "from pydantic import BaseModel"
   ]
  },
  {
   "cell_type": "code",
   "execution_count": 7,
   "id": "db65c870",
   "metadata": {},
   "outputs": [],
   "source": [
    "class student(BaseModel):\n",
    "    namestu: str"
   ]
  },
  {
   "cell_type": "code",
   "execution_count": 8,
   "id": "25282ac2",
   "metadata": {},
   "outputs": [],
   "source": [
    "stu_dict = {\"namestu\":\"Maaz\"}"
   ]
  },
  {
   "cell_type": "code",
   "execution_count": 9,
   "id": "32171bd8",
   "metadata": {},
   "outputs": [],
   "source": [
    "stu = student(**stu_dict)"
   ]
  },
  {
   "cell_type": "code",
   "execution_count": 12,
   "id": "2e3f187a",
   "metadata": {},
   "outputs": [
    {
     "name": "stdout",
     "output_type": "stream",
     "text": [
      "Maaz\n"
     ]
    }
   ],
   "source": [
    "print(stu.namestu)"
   ]
  },
  {
   "cell_type": "markdown",
   "id": "f5aa09ad",
   "metadata": {},
   "source": [
    "# Task 1"
   ]
  },
  {
   "cell_type": "code",
   "execution_count": null,
   "id": "84769cf0",
   "metadata": {},
   "outputs": [],
   "source": [
    "from pydantic import BaseModel,Field\n",
    "from typing import Optional,Literal"
   ]
  },
  {
   "cell_type": "code",
   "execution_count": null,
   "id": "948c63fa",
   "metadata": {},
   "outputs": [],
   "source": [
    "from langchain_huggingface import ChatHuggingFace,HuggingFaceEndpoint\n",
    "from dotenv import load_dotenv\n",
    "\n",
    "load_dotenv()\n",
    "llm = HuggingFaceEndpoint(\n",
    "    repo_id=\"mistralai/Mixtral-8x7B-Instruct-v0.1\",\n",
    "    task=\"text-generation\"\n",
    ")\n",
    "\n",
    "model = ChatHuggingFace(\n",
    "    llm=llm\n",
    ")"
   ]
  },
  {
   "cell_type": "code",
   "execution_count": 18,
   "id": "4a3f2caa",
   "metadata": {},
   "outputs": [],
   "source": [
    "class review(BaseModel):\n",
    "    summary: str = Field(description=\"A breif overview of the review\")\n",
    "    sentiment: Literal['pos','neg'] = Field(description='return the sentiment of the review either negative of positive')\n",
    "    pros: list[str] = Field(description=\"write all the pros mentioned in the review\")\n",
    "    cons: Optional[list[str]] = Field(description=\"write all the cons mentioned in the review\")\n",
    "    name: Optional[str] = Field(description=\"who wrote this review\")"
   ]
  },
  {
   "cell_type": "code",
   "execution_count": 22,
   "id": "5c065c56",
   "metadata": {},
   "outputs": [
    {
     "ename": "NotImplementedError",
     "evalue": "Pydantic schema is not supported for function calling",
     "output_type": "error",
     "traceback": [
      "\u001b[31m---------------------------------------------------------------------------\u001b[39m",
      "\u001b[31mNotImplementedError\u001b[39m                       Traceback (most recent call last)",
      "\u001b[36mCell\u001b[39m\u001b[36m \u001b[39m\u001b[32mIn[22]\u001b[39m\u001b[32m, line 1\u001b[39m\n\u001b[32m----> \u001b[39m\u001b[32m1\u001b[39m str_model = \u001b[43mmodel\u001b[49m\u001b[43m.\u001b[49m\u001b[43mwith_structured_output\u001b[49m\u001b[43m(\u001b[49m\u001b[43mreview\u001b[49m\u001b[43m)\u001b[49m\n",
      "\u001b[36mFile \u001b[39m\u001b[32md:\\NLP\\Gen-AI\\venv\\Lib\\site-packages\\langchain_huggingface\\chat_models\\huggingface.py:930\u001b[39m, in \u001b[36mChatHuggingFace.with_structured_output\u001b[39m\u001b[34m(self, schema, method, include_raw, **kwargs)\u001b[39m\n\u001b[32m    921\u001b[39m llm = \u001b[38;5;28mself\u001b[39m.bind_tools(\n\u001b[32m    922\u001b[39m     [schema],\n\u001b[32m    923\u001b[39m     tool_choice=tool_name,\n\u001b[32m   (...)\u001b[39m\u001b[32m    927\u001b[39m     },\n\u001b[32m    928\u001b[39m )\n\u001b[32m    929\u001b[39m \u001b[38;5;28;01mif\u001b[39;00m is_pydantic_schema:\n\u001b[32m--> \u001b[39m\u001b[32m930\u001b[39m     \u001b[38;5;28;01mraise\u001b[39;00m \u001b[38;5;167;01mNotImplementedError\u001b[39;00m(\n\u001b[32m    931\u001b[39m         \u001b[33m\"\u001b[39m\u001b[33mPydantic schema is not supported for function calling\u001b[39m\u001b[33m\"\u001b[39m\n\u001b[32m    932\u001b[39m     )\n\u001b[32m    933\u001b[39m \u001b[38;5;28;01melse\u001b[39;00m:\n\u001b[32m    934\u001b[39m     output_parser: Union[JsonOutputKeyToolsParser, JsonOutputParser] = (\n\u001b[32m    935\u001b[39m         JsonOutputKeyToolsParser(key_name=tool_name, first_tool_only=\u001b[38;5;28;01mTrue\u001b[39;00m)\n\u001b[32m    936\u001b[39m     )\n",
      "\u001b[31mNotImplementedError\u001b[39m: Pydantic schema is not supported for function calling"
     ]
    }
   ],
   "source": [
    "str_model = model.with_structured_output(review)"
   ]
  },
  {
   "cell_type": "markdown",
   "id": "10b0d68a",
   "metadata": {},
   "source": [
    "# Pydantic is supported by openai models but not hugging face models"
   ]
  },
  {
   "cell_type": "code",
   "execution_count": null,
   "id": "f360eadc",
   "metadata": {},
   "outputs": [],
   "source": []
  }
 ],
 "metadata": {
  "kernelspec": {
   "display_name": "venv",
   "language": "python",
   "name": "python3"
  },
  "language_info": {
   "codemirror_mode": {
    "name": "ipython",
    "version": 3
   },
   "file_extension": ".py",
   "mimetype": "text/x-python",
   "name": "python",
   "nbconvert_exporter": "python",
   "pygments_lexer": "ipython3",
   "version": "3.12.2"
  }
 },
 "nbformat": 4,
 "nbformat_minor": 5
}
