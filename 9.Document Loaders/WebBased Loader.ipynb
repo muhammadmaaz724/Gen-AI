{
 "cells": [
  {
   "cell_type": "code",
   "execution_count": 10,
   "id": "989ab92e",
   "metadata": {},
   "outputs": [],
   "source": [
    "from langchain_community.document_loaders import WebBaseLoader\n",
    "from langchain_huggingface import HuggingFaceEndpoint,ChatHuggingFace\n",
    "from dotenv import load_dotenv\n",
    "from langchain_core.prompts import PromptTemplate\n",
    "from langchain_core.output_parsers import StrOutputParser"
   ]
  },
  {
   "cell_type": "code",
   "execution_count": 11,
   "id": "f59a0ce0",
   "metadata": {},
   "outputs": [],
   "source": [
    "load_dotenv()\n",
    "\n",
    "llm = HuggingFaceEndpoint(\n",
    "    repo_id=\"google/gemma-2-2b-it\",\n",
    "    task=\"text-generation\"\n",
    ")\n",
    "\n",
    "model = ChatHuggingFace(llm=llm)"
   ]
  },
  {
   "cell_type": "code",
   "execution_count": 12,
   "id": "65dc9946",
   "metadata": {},
   "outputs": [],
   "source": [
    "url = 'https://www.flipkart.com/apple-macbook-air-m4-16-gb-512-gb-ssd-macos-sequoia-mw103hn-a/p/itmc2cfaee6a7b6e?pid=COMH9ZWQKQ5D3ZED&lid=LSTCOMH9ZWQKQ5D3ZEDKELRCZ&marketplace=FLIPKART&q=macbook+air+m4&store=6bo%2Fb5g&srno=s_1_1&otracker=AS_QueryStore_OrganicAutoSuggest_1_5_na_na_na&otracker1=AS_QueryStore_OrganicAutoSuggest_1_5_na_na_na&fm=organic&iid=dd210d2a-6ccb-48ae-bbf1-6f91c46e0905.COMH9ZWQKQ5D3ZED.SEARCH&ppt=hp&ppn=homepage&ssid=4tvk88yxcg0000001751918718610&qH=a3dc101ea3bce06d'"
   ]
  },
  {
   "cell_type": "code",
   "execution_count": 17,
   "id": "0d1bc89f",
   "metadata": {},
   "outputs": [],
   "source": [
    "loader = WebBaseLoader(url)\n",
    "docs = loader.load()"
   ]
  },
  {
   "cell_type": "code",
   "execution_count": 20,
   "id": "160d4c02",
   "metadata": {},
   "outputs": [
    {
     "name": "stdout",
     "output_type": "stream",
     "text": [
      "   Apple MacBook Air Apple M4 - (16 GB/512 GB SSD/macOS Sequoia) MW103HN/A Rs.119900  Price in India - Buy Apple MacBook Air Apple M4 - (16 GB/512 GB SSD/macOS Sequoia) MW103HN/A Starlight Online - Apple : Flipkart.com        Explore PlusLoginBecome a Seller More CartAdd to cart Buy NowHomeComputersLaptopsApple LaptopsApple MacBook Air Apple M4 - (16 GB/512 GB SSD/macOS Sequoia) MW103HN/A (13.6 inch, Starlight, 1.24 kg)\n",
      "CompareShareApple MacBook Air Apple M4 - (16 GB/512 GB SSD/macOS Sequoia) MW103HN/A  (13.6 inch, Starlight, 1.24 kg)4.7734 Ratings & 74 Reviews₹1,19,899₹1,19,900i+ ₹99 Protect Promise Fee Learn moreSecure delivery by 15 Jul, TuesdayAvailable offersBank Offer5% cashback on Flipkart Axis Bank Credit Card upto ₹4,000 per statement quarterT&CBank Offer5% cashback on Axis Bank Flipkart Debit Card up to ₹750T&CBank Offer10% off up to ₹1,250 on Axis Bank Credit Card Txns, Min Txn Value: ₹4,990T&CNo Cost EMI Upto 6 MonthsT&CView 12 more offersBuy without Exchange₹119,899Buy with Exchangeup to ₹25,000 offEnter pincode to check if exchange is available1 Year Limited WarrantyKnow MoreColorMidnightSilverSky BlueStarlightPlease select a Color to proceed✕System Memory16 GB16 GB24 GB24 GBPlease select a System Memory to proceed✕SSD Capacity256 GB256 GB512 GB512 GBPlease select a SSD Capacity to proceed✕Screen Size13.6 inch13.6 inch15.3 inch15.3 inchPlease select a Screen Size to proceed✕DeliveryCheckEnter pincodeDelivery by15 Jul, Tuesday?if ordered before 3:40 AMInstallation & Demo  by14 Jul, Monday|₹599View DetailsHighlightsStylish & Portable Thin and Light Laptop13.6 inch Liquid Retina Display, Native Resolution at 224 Pixels Per Inch, 500 Nits Brightness, Wide colour (P3)Light Laptop without Optical Disk DriveEasy Payment OptionsCash on DeliveryNet banking & Credit/ Debit/ ATM cardView DetailsSellerTREASURE HAUL ONLINE4.6No Returns Applicable?GST invoice available?See other sellersSpecificationsGeneralSales Package13″ MacBook Air, 35W Dual USB-C Port Power Adapter, USB-C to MagSafe 3 Cable (2 m)Model NumberMW103HN/APart NumberMW103HN/AModel NameMacBook AirSeriesMacBook AirColorStarlightTypeThin and Light LaptopSuitable ForProcessing & MultitaskingBattery BackupUpto 18 HoursPower Supply35W Dual USB-C Port Power AdapterMS Office ProvidedNoProcessor And Memory FeaturesProcessor BrandAppleProcessor NameM4SSDYesSSD Capacity512 GBRAM16 GBRAM TypeUnified MemoryProcessor VariantApple M4 ChipGraphic ProcessorNANumber of Cores10Expandable SSD Capacity2 TBStorage TypeSSDOperating SystemOperating SystemmacOS SequoiaPort And Slot FeaturesMic InYesUSB Port2 x Thunderbolt 4 (USB-C) ports with support for Charging, DisplayPort, Thunderbolt 4 (up to 40 Gbps), USB 4 (up to 40 Gbps)Display And Audio FeaturesTouchscreenNoScreen Size34.54 cm (13.6 inch)Screen Resolution2560 x 1664 PixelScreen TypeLiquid Retina Display, Native Resolution at 224 Pixels Per Inch, 500 Nits Brightness, Wide colour (P3)Internal MicThree-Mic Array with Directional BeamformingSound PropertiesFour-Speaker Sound System, Support for Spatial Audio When Playing Music or Video with Dolby Atmos on Built-in Speakers, Spatial Audio with Dynamic Head Tracking When Using Supported Models of AirPods, AirPods Pro and AirPods MaxRefresh Rate60 HzBrightness500 NitsConnectivity FeaturesWireless LANWi-Fi 6E (802.11ax)Bluetoothv5.3DimensionsDimensions304.1 x 215 x 11.3 mmWeight1.24 kgAdditional FeaturesDisk DriveNot AvailableWeb Camera12MP Center Stage Camera with Support for Desk View, 1080p HD Video Recording, Advanced Image Signal Processor with Computational VideoKeyboardBacklit Magic KeyboardBacklit KeyboardYesPointer DeviceForce Touch TrackpadIncluded SoftwareBuilt-in Apps: App Store, Books, Calendar, Contacts, FaceTime, Find My, Freeform, GarageBand, Home, iMovie, iPhone Mirroring, Keynote, Mail, Maps, Messages, Music, Notes, Numbers, Pages, Passwords, Photo Booth, Photos, Podcasts, Preview, QuickTime Player, Reminders, Safari, Shortcuts, Stocks, Time Machine, Tips, TV, Voice Memos, WeatherAdditional Features53.8 Whr Lithium Polymer BatteryWarrantyWarranty Summary1 Year Limited WarrantyWarranty Service TypeOnsiteCovered in WarrantyManufacturing DefectsNot Covered in WarrantyPhysical DamageDomestic Warranty1 YearRead MoreFrequently Bought TogetherApple MacBook Air Apple M4 - (16 GB/512 GB SSD/macOS Sequoia) MW1...4.7(734)₹1,19,899₹1,19,900MOCA 13.3 inch Laptop Messenger Bag4.4(673)₹1,159PRODOT ProSeries KB-247s USB Wired Keyboard I Plug & Play Technol...3.7(45)₹2991 Item₹1,19,8992 Add-ons₹1,458Total₹1,21,357Add 3 Items to CartRatings & ReviewsRate Product4.7★734 Ratings &74 Reviews5★4★3★2★1★58997146284.8Performance4.7Battery4.7Design4.6Display+ 575Terrific purchaseBest MacBook for most ppl. With 16gb starting this is 100% paisa vasool for performance.READ MOREMadan  VivekanandanCertified Buyer, Chennai3 months ago7812PermalinkReport Abuse5Classy productAmazing Product and powerful performance M4 Air 🔥🔥🔥🔥READ MOREnayan bhattiCertified Buyer, Surat3 months ago5510PermalinkReport Abuse5Best in the market!Product came in good packaging 📦. M4 Air first impression was awesome. Pre-order deal was a steal deal and great value for money.READ MORESasikumar KCertified Buyer, Bangalore3 months ago162PermalinkReport Abuse5Must buy!On time Delivery. Packaging was good. Overall good experience. Product itself is amazing.READ MOREFlipkart CustomerCertified Buyer, New Delhi1 month ago60PermalinkReport Abuse5WonderfulMacbook Air is remarkably thin, M4 performance is superb no leg observed.The newly launched sky blue colour looks stunning,READ MORERohit GargCertified Buyer, Kishangarh Ajmer District2 months ago50PermalinkReport Abuse5Simply awesomeHeres the breakdown : 1. Battery - 10/102. Screen - 10/10, I'm coming from a 180hz Display on my PC and 120Hz from my phone, but I didn't at all feel any issues with the 60hz screen. The software is so well optimized, it feels even smoother than 120hz. Brightness is awesome, colours are the best I've seen. Great for writing, coding and media consumption. 3. Performance - M4 is the best here till date. For the given form factor, its the best portable lightweight and smooth experience. It...READ MOREAvi  Biswas Certified Buyer, Bengaluru2 months ago144PermalinkReport Abuse5Must buy!Great laptopNothing compares to thisREAD MORESavan SanghaviCertified Buyer, Bengaluru3 months ago113PermalinkReport Abuse5Must buy!One word, Amazing!READ MORETanmay SarkarCertified Buyer, South Twenty Four Parganas District1 month ago40PermalinkReport Abuse5BrilliantAwesome colour excellent productREAD MORESAIFUDHEEN  VADAKKANPULAN Certified Buyer, Malappuram District3 months ago61PermalinkReport Abuse5Super!Sleek and powerful. Battery is goodREAD MOREMaddipati ShatanCertified Buyer, Bengaluru3 months ago104PermalinkReport Abuse+All 74 reviewsQuestions and AnswersQ:Is this for Data Science???A:Yes is itAnil TanwarCertified Buyer112Report AbuseQ:Can i play pubg in this Mac??A:nokumar gauravCertified Buyer5346Report AbuseDidn't get the right answer you were looking forPost your questionSafe and Secure Payments.Easy returns.100% Authentic products.You might be interested inKeyboardsMin. 50% OffShop NowMouseMin. 50% OffShop NowPhysicalMin. 50% OffShop NowExternal SSDMin. 50% OffShop NowTop Stories:Brand DirectoryMOST SEARCHED IN Computers & Accessories:MAC BOOK PROCANOSCAN LIDE 110LCD MONITOR PRICELAPTOP MOTHERBOARDDUAL CORE PROCESSOR PRICEDELL COMPUTER PRICESAMSUNG MONITORSNETWORK COMPONENTSWIFI ROUTERHARD DISK 1TBPENDRIVE OFFERTRANSCEND PEN DRIVEDELL INSPIRON N5110DELL INSPIRON 15DENON INDIAAIR COOLERS ONLINEHP LASERJET PRINTERDELL ALIENWARE LAPTOPSMAC PRO PRICEFUJITSU LAPTOPSLENOVO LAPTOPS INDIAMCAFEE TOTAL PROTECTIONMS OFFICE 2016USB OTG CABLEONLINE BARCODE READERDIGITAL PENWIFI ROUTER ONLINEWD HARD DISKWD MY PASSPORTABOUTContact UsAbout UsCareersFlipkart StoriesPressCorporate InformationGROUP COMPANIESMyntraCleartripShopsyHELPPaymentsShippingCancellation & ReturnsFAQCONSUMER POLICYCancellation & ReturnsTerms Of UseSecurityPrivacySitemapGrievance RedressalEPR ComplianceMail Us:Flipkart Internet Private Limited, \n",
      " Buildings Alyssa, Begonia & \n",
      " Clove Embassy Tech Village, \n",
      " Outer Ring Road, Devarabeesanahalli Village, \n",
      " Bengaluru, 560103, \n",
      " Karnataka, India\n",
      "SocialRegistered Office Address:Flipkart Internet Private Limited, \n",
      " Buildings Alyssa, Begonia & \n",
      " Clove Embassy Tech Village, \n",
      " Outer Ring Road, Devarabeesanahalli Village, \n",
      " Bengaluru, 560103, \n",
      " Karnataka, India \n",
      " CIN : U51109KA2012PTC066107 \n",
      " Telephone: 044-45614700 / 044-67415800\n",
      "Become a SellerAdvertiseGift CardsHelp Center© 2007-2025 Flipkart.comBack to top   \n",
      " \n",
      "\n",
      "\n",
      " \n"
     ]
    }
   ],
   "source": [
    "print(docs[0].page_content)"
   ]
  },
  {
   "cell_type": "code",
   "execution_count": 21,
   "id": "5e07cb8e",
   "metadata": {},
   "outputs": [],
   "source": [
    "prompt = PromptTemplate(\n",
    "    template=\"Please Answer the following question \\n {question} \\n from the following text \\n {text}\",\n",
    "    input_variables=['question','text']\n",
    ")"
   ]
  },
  {
   "cell_type": "code",
   "execution_count": 23,
   "id": "28143d1f",
   "metadata": {},
   "outputs": [],
   "source": [
    "parser = StrOutputParser()"
   ]
  },
  {
   "cell_type": "code",
   "execution_count": 24,
   "id": "fb10df77",
   "metadata": {},
   "outputs": [],
   "source": [
    "chain = prompt | model | parser"
   ]
  },
  {
   "cell_type": "code",
   "execution_count": 29,
   "id": "8f0ddbe6",
   "metadata": {},
   "outputs": [],
   "source": [
    "res = chain.invoke({'question':'what is its brightness','text':docs[0].page_content})"
   ]
  },
  {
   "cell_type": "code",
   "execution_count": 30,
   "id": "f4f1ca31",
   "metadata": {},
   "outputs": [
    {
     "name": "stdout",
     "output_type": "stream",
     "text": [
      "The brightness of the MacBook Air M4 is **500 nits**. \n",
      "\n"
     ]
    }
   ],
   "source": [
    "print(res)"
   ]
  },
  {
   "cell_type": "code",
   "execution_count": null,
   "id": "b0027ee0",
   "metadata": {},
   "outputs": [],
   "source": []
  }
 ],
 "metadata": {
  "kernelspec": {
   "display_name": "venv",
   "language": "python",
   "name": "python3"
  },
  "language_info": {
   "codemirror_mode": {
    "name": "ipython",
    "version": 3
   },
   "file_extension": ".py",
   "mimetype": "text/x-python",
   "name": "python",
   "nbconvert_exporter": "python",
   "pygments_lexer": "ipython3",
   "version": "3.12.2"
  }
 },
 "nbformat": 4,
 "nbformat_minor": 5
}
