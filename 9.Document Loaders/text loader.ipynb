{
 "cells": [
  {
   "cell_type": "code",
   "execution_count": 5,
   "id": "556aac8b",
   "metadata": {},
   "outputs": [],
   "source": [
    "from langchain_community.document_loaders import TextLoader\n",
    "from langchain_huggingface import HuggingFaceEndpoint,ChatHuggingFace\n",
    "from dotenv import load_dotenv\n",
    "from langchain_core.prompts import PromptTemplate\n",
    "from langchain_core.output_parsers import StrOutputParser"
   ]
  },
  {
   "cell_type": "code",
   "execution_count": 2,
   "id": "cef4aa3e",
   "metadata": {},
   "outputs": [],
   "source": [
    "load_dotenv()\n",
    "\n",
    "llm = HuggingFaceEndpoint(\n",
    "    repo_id=\"google/gemma-2-2b-it\",\n",
    "    task=\"text-generation\"\n",
    ")\n",
    "\n",
    "model = ChatHuggingFace(llm=llm)"
   ]
  },
  {
   "cell_type": "code",
   "execution_count": 6,
   "id": "cfa794b5",
   "metadata": {},
   "outputs": [],
   "source": [
    "prompt = PromptTemplate(\n",
    "    template=\"Give me a summary of the following \\n {text}\",\n",
    "    input_variables=[\"text\"]\n",
    ")\n",
    "parser = StrOutputParser()"
   ]
  },
  {
   "cell_type": "code",
   "execution_count": 7,
   "id": "fda2828c",
   "metadata": {},
   "outputs": [],
   "source": [
    "loader = TextLoader('Cricket.txt',encoding='utf-8')"
   ]
  },
  {
   "cell_type": "code",
   "execution_count": 8,
   "id": "838c4034",
   "metadata": {},
   "outputs": [],
   "source": [
    "docs = loader.load()"
   ]
  },
  {
   "cell_type": "code",
   "execution_count": 12,
   "id": "3af335b8",
   "metadata": {},
   "outputs": [
    {
     "name": "stdout",
     "output_type": "stream",
     "text": [
      "\n",
      "Cricket: A Gentleman's Game\n",
      "\n",
      "Cricket is a bat-and-ball sport that has captured the hearts of millions of fans worldwide. It originated in England during the 16th century and has evolved into one of the most popular sports globally, particularly in countries like India, Australia, England, Pakistan, South Africa, Sri Lanka, Bangladesh, and the West Indies.\n",
      "\n",
      "The game is played between two teams of eleven players each. The central aim is to score more runs than the opposing team. Matches are played on an oval field with a rectangular 22-yard long pitch at the center. One team bats to score runs, while the other bowls and fields to restrict runs and dismiss batters.\n",
      "\n",
      "There are three major formats of the game: Test cricket, One Day Internationals (ODIs), and Twenty20 Internationals (T20Is). Test cricket is the oldest and most traditional format, played over five days. ODIs consist of 50 overs per side and are usually played in a single day. T20s are the shortest international format, with each team playing 20 overs.\n",
      "\n",
      "Key elements of cricket include batting, bowling, and fielding. Great batsmen like Sachin Tendulkar, Virat Kohli, Brian Lara, and Ricky Ponting have set numerous records. Legendary bowlers such as Muttiah Muralitharan, Shane Warne, and Wasim Akram have mesmerized fans with their skills.\n",
      "\n",
      "Major international competitions include the ICC Cricket World Cup, ICC T20 World Cup, ICC Champions Trophy, and the World Test Championship. Domestic leagues like the Indian Premier League (IPL), Big Bash League (BBL), and Pakistan Super League (PSL) have also contributed to the sport’s popularity.\n",
      "\n",
      "Cricket is more than a sport; it's a culture and a source of national pride in many countries. It unites people, inspires young athletes, and continues to evolve with new technologies, strategies, and formats.\n",
      "\n",
      "Whether it's the roar of a stadium or the calm of a test match day, cricket remains a beautiful game cherished by millions.\n",
      "\n",
      "\n"
     ]
    }
   ],
   "source": [
    "print(docs[0].page_content)"
   ]
  },
  {
   "cell_type": "code",
   "execution_count": 13,
   "id": "8b578937",
   "metadata": {},
   "outputs": [],
   "source": [
    "chain = prompt | model | parser"
   ]
  },
  {
   "cell_type": "code",
   "execution_count": 14,
   "id": "f40bfb91",
   "metadata": {},
   "outputs": [],
   "source": [
    "res = chain.invoke({\"text\":docs[0].page_content})"
   ]
  },
  {
   "cell_type": "code",
   "execution_count": 15,
   "id": "d73c8d99",
   "metadata": {},
   "outputs": [
    {
     "name": "stdout",
     "output_type": "stream",
     "text": [
      "Cricket is a worldwide beloved bat-and-ball sport originating in England.  It's known for its strategic complexity, skillful play by both batters and bowlers, and fascinating international competitions.\n",
      "\n",
      "**Here's a rundown of key points:**\n",
      "\n",
      "* **How it works:** Two teams of 11 players compete to score more runs than the opposing team.\n",
      "* **Formats:** There are three main formats:\n",
      "    * **Test cricket:**  5 days of play over several innings.\n",
      "    * **ODIs (One Day Internationals):** Single-day matches, each side plays 50 overs.\n",
      "    * **T20 Internationals (T20s):** The shortest format, each team plays 20 overs.\n",
      "* **Key roles:** Batters aim for runs, bowlers aim to restrict runs and dismiss batsmen, and fielders catch the ball and prevent runs.\n",
      "* **Stars:** Legendary players like Sachin Tendulkar, Brian Lara, Shane Warne, and Muttiah Muralitharan have redefined cricket.\n",
      "* **International tournaments:** Major competitions include the Cricket World Cup, T20 World Cup, Champions Trophy, and the World Test Championship. \n",
      "* **Global popularity:** Cricket is particularly popular in countries like India, Australia, England, Pakistan, South Africa, Sri Lanka, Bangladesh, and the West Indies, and is considered a source of national pride in many places.\n",
      "* **More than just a game:** Cricket is deeply connected to culture, inspiring young athletes and constantly evolving with new technologies and formats.\n",
      "\n",
      "\n",
      "In short, Cricket is consistently thrilling and culturally significant, captivating millions of fans globally.  \n",
      "\n"
     ]
    }
   ],
   "source": [
    "print(res)"
   ]
  },
  {
   "cell_type": "code",
   "execution_count": null,
   "id": "34c242dd",
   "metadata": {},
   "outputs": [],
   "source": []
  }
 ],
 "metadata": {
  "kernelspec": {
   "display_name": "venv",
   "language": "python",
   "name": "python3"
  },
  "language_info": {
   "codemirror_mode": {
    "name": "ipython",
    "version": 3
   },
   "file_extension": ".py",
   "mimetype": "text/x-python",
   "name": "python",
   "nbconvert_exporter": "python",
   "pygments_lexer": "ipython3",
   "version": "3.12.2"
  }
 },
 "nbformat": 4,
 "nbformat_minor": 5
}
