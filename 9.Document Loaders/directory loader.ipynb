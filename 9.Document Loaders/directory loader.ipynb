{
 "cells": [
  {
   "cell_type": "code",
   "execution_count": 1,
   "id": "ec22c80e",
   "metadata": {},
   "outputs": [],
   "source": [
    "from langchain_community.document_loaders import PyPDFLoader,DirectoryLoader"
   ]
  },
  {
   "cell_type": "code",
   "execution_count": 10,
   "id": "6257b6e1",
   "metadata": {},
   "outputs": [],
   "source": [
    "loader = DirectoryLoader(\n",
    "    path='folder',\n",
    "    glob='*.pdf',\n",
    "    loader_cls=PyPDFLoader\n",
    ")"
   ]
  },
  {
   "cell_type": "code",
   "execution_count": 11,
   "id": "934ad7fb",
   "metadata": {},
   "outputs": [],
   "source": [
    "docs = loader.load()"
   ]
  },
  {
   "cell_type": "code",
   "execution_count": 12,
   "id": "2f79686b",
   "metadata": {},
   "outputs": [
    {
     "name": "stdout",
     "output_type": "stream",
     "text": [
      "Muhammad Maaz \n",
      "Muhammadmaaz724@gmail.com | (+92) 3430279837 \n",
      " \n",
      "/muhammadmaaz724                                                                      /muhammad-maaz-8b5a5a23a \n",
      " \n",
      "SKILLS \n",
      "❖ Computer Vision (Tensorflow, Keras, Transfer Learning) \n",
      "❖ GenAI (LangChain, LLMs, OpenAI, Hugging Face) \n",
      " Deep Learning (NLP, CV) \n",
      " Machine Learning (Scikit-learn, Pandas, Numpy, Matplotlib) \n",
      " C++ \n",
      " Python \n",
      " \n",
      "EDUCATION \n",
      "❖ Software Engineering | UET Mardan  CGPA:  3.71 | Oct 2021 – June 2025 \n",
      "❖ Pre-Eng/Med | Degree College Swat              Percentage: 85% | July 2021      \n",
      "PROJECTS \n",
      "❖ Car Image Anonymization & Enhancement using YOLO11 and SAM2 \n",
      " Built a pipeline to detect and segment cars using YOLO11 and SAM2. \n",
      " Applied anonymization tasks: blurring number plates, tinting windows, and \n",
      "removing/replacing backgrounds. \n",
      " Leveraged custom-annotated dataset. \n",
      " \n",
      "❖ AI based Network Intrusion Detection System \n",
      " Developed a two-stage intrusion detection system combining an unsupervised \n",
      "autoencoder for anomaly detection and an RNN for attack classification. \n",
      " Used reconstruction error to flag suspicious traffic and applied RNN to label \n",
      "known threats using the CICIDS 2017 dataset. \n",
      " Designed a fallback “Other” category to intelligently capture novel or unseen \n",
      "threats, improving detection flexibility. \n",
      " Achieved high accuracy and low false positives under real network conditions by \n",
      "combining anomaly detection with targeted classification. \n",
      " \n",
      "❖ Doctor Chatbot — Educational Simulation \n",
      " Created using Streamlit, LangChain, and OpenAI GPT-4 to simulate doctor-\n",
      "patient conversations. \n",
      " Focused on Pakistani healthcare context with local medicines. \n",
      " Included session memory for contextual awareness.\n"
     ]
    }
   ],
   "source": [
    "print(docs[2].page_content)"
   ]
  },
  {
   "cell_type": "code",
   "execution_count": 13,
   "id": "95ba01d2",
   "metadata": {},
   "outputs": [],
   "source": [
    "docs = loader.lazy_load()"
   ]
  },
  {
   "cell_type": "markdown",
   "id": "fcd1e525",
   "metadata": {},
   "source": [
    "# lazy load loads one at a time "
   ]
  },
  {
   "cell_type": "code",
   "execution_count": null,
   "id": "f3ba0a91",
   "metadata": {},
   "outputs": [],
   "source": []
  },
  {
   "cell_type": "code",
   "execution_count": null,
   "id": "8d52f68c",
   "metadata": {},
   "outputs": [],
   "source": []
  }
 ],
 "metadata": {
  "kernelspec": {
   "display_name": "venv",
   "language": "python",
   "name": "python3"
  },
  "language_info": {
   "codemirror_mode": {
    "name": "ipython",
    "version": 3
   },
   "file_extension": ".py",
   "mimetype": "text/x-python",
   "name": "python",
   "nbconvert_exporter": "python",
   "pygments_lexer": "ipython3",
   "version": "3.12.2"
  }
 },
 "nbformat": 4,
 "nbformat_minor": 5
}
