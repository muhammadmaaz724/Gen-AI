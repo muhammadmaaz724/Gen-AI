{
 "cells": [
  {
   "cell_type": "code",
   "execution_count": 1,
   "id": "108b31bc",
   "metadata": {},
   "outputs": [],
   "source": [
    "from langchain_community.document_loaders import PyPDFLoader\n",
    "from langchain_huggingface import HuggingFaceEndpoint,ChatHuggingFace\n",
    "from dotenv import load_dotenv\n",
    "from langchain_core.prompts import PromptTemplate\n",
    "from langchain_core.output_parsers import StrOutputParser"
   ]
  },
  {
   "cell_type": "code",
   "execution_count": 2,
   "id": "db434110",
   "metadata": {},
   "outputs": [],
   "source": [
    "load_dotenv()\n",
    "\n",
    "llm = HuggingFaceEndpoint(\n",
    "    repo_id=\"google/gemma-2-2b-it\",\n",
    "    task=\"text-generation\"\n",
    ")\n",
    "\n",
    "model = ChatHuggingFace(llm=llm)"
   ]
  },
  {
   "cell_type": "code",
   "execution_count": 3,
   "id": "bc4e027e",
   "metadata": {},
   "outputs": [],
   "source": [
    "prompt = PromptTemplate(\n",
    "    template=\"Give me a summary of the following \\n {text}\",\n",
    "    input_variables=[\"text\"]\n",
    ")\n",
    "parser = StrOutputParser()"
   ]
  },
  {
   "cell_type": "code",
   "execution_count": 7,
   "id": "64a3601c",
   "metadata": {},
   "outputs": [],
   "source": [
    "loader = PyPDFLoader('Cricket.pdf')"
   ]
  },
  {
   "cell_type": "code",
   "execution_count": 8,
   "id": "22ecaade",
   "metadata": {},
   "outputs": [],
   "source": [
    "docs = loader.load()"
   ]
  },
  {
   "cell_type": "code",
   "execution_count": 11,
   "id": "a034e672",
   "metadata": {},
   "outputs": [
    {
     "name": "stdout",
     "output_type": "stream",
     "text": [
      "page_content='people, inspires young athletes, and continues to evolve with new technologies, strategies, and\n",
      "formats.\n",
      "Whether it's the roar of a stadium or the calm of a test match day, cricket remains a beautiful game\n",
      "cherished by millions.' metadata={'producer': 'PyFPDF 1.7.2 http://pyfpdf.googlecode.com/', 'creator': 'PyPDF', 'creationdate': 'D:20250707185901', 'source': 'Cricket.pdf', 'total_pages': 2, 'page': 1, 'page_label': '2'}\n"
     ]
    }
   ],
   "source": [
    "print(docs[1])"
   ]
  },
  {
   "cell_type": "code",
   "execution_count": 12,
   "id": "b6d6170d",
   "metadata": {},
   "outputs": [],
   "source": [
    "chain = prompt | model | parser"
   ]
  },
  {
   "cell_type": "code",
   "execution_count": 13,
   "id": "3982d3a2",
   "metadata": {},
   "outputs": [],
   "source": [
    "res = chain.invoke({\"text\":docs[0].page_content})"
   ]
  },
  {
   "cell_type": "code",
   "execution_count": 14,
   "id": "897f6276",
   "metadata": {},
   "outputs": [
    {
     "name": "stdout",
     "output_type": "stream",
     "text": [
      "Cricket is a bat-and-ball sport popular worldwide, with origins in 16th century England. Played between two teams of 11, the aim is to score more runs than the opposing team. \n",
      "\n",
      "Three main formats exist: \n",
      "\n",
      "* **Test cricket:**  The oldest, played over 5 days, with a traditional style of play. \n",
      "* **One-Day Internationals (ODIs):**  50 overs per team, played in a single day.\n",
      "* **Twenty20 Internationals (T20Is):**  Shortest format,  20 overs per team.\n",
      "\n",
      "Key aspects include  batting, bowling, and fielding, played for national pride in many countries. Crucial international competitions like the World Cup and Champions Trophy drive global interest. Domestic leagues like the IPL, BBL, and PSL further enhance the sport's popularity through player rivalry and fan engagement. \n",
      "\n",
      "\n",
      "Cricket is more than just a sport, it's a culture and a source of immense national pride. \n",
      "\n"
     ]
    }
   ],
   "source": [
    "print(res)"
   ]
  },
  {
   "cell_type": "code",
   "execution_count": null,
   "id": "a231fb4c",
   "metadata": {},
   "outputs": [],
   "source": []
  }
 ],
 "metadata": {
  "kernelspec": {
   "display_name": "venv",
   "language": "python",
   "name": "python3"
  },
  "language_info": {
   "codemirror_mode": {
    "name": "ipython",
    "version": 3
   },
   "file_extension": ".py",
   "mimetype": "text/x-python",
   "name": "python",
   "nbconvert_exporter": "python",
   "pygments_lexer": "ipython3",
   "version": "3.12.2"
  }
 },
 "nbformat": 4,
 "nbformat_minor": 5
}
