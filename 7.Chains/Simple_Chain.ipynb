{
 "cells": [
  {
   "cell_type": "code",
   "execution_count": 1,
   "id": "ace7ef5e",
   "metadata": {},
   "outputs": [],
   "source": [
    "from langchain_huggingface import HuggingFaceEndpoint,ChatHuggingFace\n",
    "from dotenv import load_dotenv\n",
    "from langchain_core.prompts import PromptTemplate\n",
    "from langchain.output_parsers import PydanticOutputParser\n",
    "from pydantic import BaseModel,Field"
   ]
  },
  {
   "cell_type": "code",
   "execution_count": 2,
   "id": "d410c6d4",
   "metadata": {},
   "outputs": [],
   "source": [
    "load_dotenv()\n",
    "\n",
    "llm = HuggingFaceEndpoint(\n",
    "    repo_id='google/gemma-2-2b-it',\n",
    "    task='text-generation'\n",
    ")\n",
    "\n",
    "model = ChatHuggingFace(llm=llm)"
   ]
  },
  {
   "cell_type": "code",
   "execution_count": 7,
   "id": "488c230b",
   "metadata": {},
   "outputs": [],
   "source": [
    "class par(BaseModel):\n",
    "    name: str = Field(description=\"Name of the person\")\n",
    "    city: str = Field(description=\"city of the person\")\n",
    "    country: str = Field(description=\"country of the person\")\n",
    "    \n",
    "parser = PydanticOutputParser(pydantic_object=par)"
   ]
  },
  {
   "cell_type": "code",
   "execution_count": 8,
   "id": "27ef6d95",
   "metadata": {},
   "outputs": [],
   "source": [
    "prompt = PromptTemplate(\n",
    "    template='Give me the name,city and coutry of a {identity} fictional person \\n {format_ins}',\n",
    "    input_variables=['identity'],\n",
    "    partial_variables={'format_ins':parser.get_format_instructions()}\n",
    ")"
   ]
  },
  {
   "cell_type": "code",
   "execution_count": 9,
   "id": "c6a6c515",
   "metadata": {},
   "outputs": [],
   "source": [
    "chain = prompt | model | parser"
   ]
  },
  {
   "cell_type": "code",
   "execution_count": 12,
   "id": "d679d1c7",
   "metadata": {},
   "outputs": [
    {
     "name": "stdout",
     "output_type": "stream",
     "text": [
      "name='Shahana Arif' city='Karachi' country='Pakistan'\n"
     ]
    }
   ],
   "source": [
    "res = chain.invoke({'identity':'Pakistani'})\n",
    "print(res)"
   ]
  },
  {
   "cell_type": "code",
   "execution_count": null,
   "id": "5fe812c9",
   "metadata": {},
   "outputs": [
    {
     "name": "stdout",
     "output_type": "stream",
     "text": [
      "Shahana Arif\n"
     ]
    }
   ],
   "source": [
    "print(res.name)"
   ]
  },
  {
   "cell_type": "code",
   "execution_count": null,
   "id": "e8bebb35",
   "metadata": {},
   "outputs": [],
   "source": []
  }
 ],
 "metadata": {
  "kernelspec": {
   "display_name": "venv",
   "language": "python",
   "name": "python3"
  },
  "language_info": {
   "codemirror_mode": {
    "name": "ipython",
    "version": 3
   },
   "file_extension": ".py",
   "mimetype": "text/x-python",
   "name": "python",
   "nbconvert_exporter": "python",
   "pygments_lexer": "ipython3",
   "version": "3.12.2"
  }
 },
 "nbformat": 4,
 "nbformat_minor": 5
}
