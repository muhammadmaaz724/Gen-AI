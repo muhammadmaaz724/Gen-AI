{
 "cells": [
  {
   "cell_type": "code",
   "execution_count": 2,
   "id": "18ee4d37",
   "metadata": {},
   "outputs": [],
   "source": [
    "from langchain_huggingface import HuggingFaceEndpoint,ChatHuggingFace\n",
    "from dotenv import load_dotenv\n",
    "from langchain_core.prompts import PromptTemplate\n",
    "from langchain_core.output_parsers import StrOutputParser\n"
   ]
  },
  {
   "cell_type": "code",
   "execution_count": 3,
   "id": "be6254dd",
   "metadata": {},
   "outputs": [],
   "source": [
    "load_dotenv()\n",
    "\n",
    "llm = HuggingFaceEndpoint(\n",
    "    repo_id='google/gemma-2-2b-it',\n",
    "    task='text-generation'\n",
    ")\n",
    "\n",
    "model = ChatHuggingFace(llm=llm)"
   ]
  },
  {
   "cell_type": "code",
   "execution_count": 4,
   "id": "c9bbe5f8",
   "metadata": {},
   "outputs": [],
   "source": [
    "temp1 = PromptTemplate(\n",
    "    template='Give me a Detail report on {topic}',\n",
    "    input_variables=['topic']\n",
    ")\n",
    "\n",
    "temp2 = PromptTemplate(\n",
    "    template='summerize the following into 3 points {text}',\n",
    "    input_variables=['text']\n",
    ")"
   ]
  },
  {
   "cell_type": "code",
   "execution_count": 5,
   "id": "49e73b8a",
   "metadata": {},
   "outputs": [],
   "source": [
    "parser = StrOutputParser()"
   ]
  },
  {
   "cell_type": "code",
   "execution_count": 6,
   "id": "f5a34b2e",
   "metadata": {},
   "outputs": [],
   "source": [
    "chain = temp1 | model | parser |temp2 | model | parser"
   ]
  },
  {
   "cell_type": "code",
   "execution_count": 8,
   "id": "cc5c272c",
   "metadata": {},
   "outputs": [],
   "source": [
    "res = chain.invoke({'topic':'Unemployemnt in Pakistan'})"
   ]
  },
  {
   "cell_type": "code",
   "execution_count": 9,
   "id": "37267c18",
   "metadata": {},
   "outputs": [
    {
     "name": "stdout",
     "output_type": "stream",
     "text": [
      "Here is a 3-point summary of the provided report on unemployment in Pakistan:\n",
      "\n",
      "1. **High unemployment, exacerbated by youth demographics.**  Pakistan faces a significant unemployment rate, and the situation is worsened by high youth unemployment (over 16%), faced with limited opportunities and poor training.\n",
      "2. **Job creation hindered by economic and institutional barriers:** Limited economic opportunities, the informal economy, population growth exceeding job creation, lack of skilled workers, and outdated policies are major factors hindering job creation.\n",
      "3. **Solutions require a multifaceted approach:** Investment in education and skills, encouraging entrepreneurship, creating a more sustainable economy through diversification, and reforming governance and policy environments are crucial in tackling the issue. \n",
      "\n"
     ]
    }
   ],
   "source": [
    "print(res)"
   ]
  },
  {
   "cell_type": "code",
   "execution_count": null,
   "id": "abadf106",
   "metadata": {},
   "outputs": [],
   "source": []
  }
 ],
 "metadata": {
  "kernelspec": {
   "display_name": "venv",
   "language": "python",
   "name": "python3"
  },
  "language_info": {
   "codemirror_mode": {
    "name": "ipython",
    "version": 3
   },
   "file_extension": ".py",
   "mimetype": "text/x-python",
   "name": "python",
   "nbconvert_exporter": "python",
   "pygments_lexer": "ipython3",
   "version": "3.12.2"
  }
 },
 "nbformat": 4,
 "nbformat_minor": 5
}
