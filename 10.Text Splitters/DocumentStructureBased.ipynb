{
 "cells": [
  {
   "cell_type": "code",
   "execution_count": 1,
   "id": "113f6035",
   "metadata": {},
   "outputs": [],
   "source": [
    "from langchain.text_splitter import RecursiveCharacterTextSplitter,Language\n",
    "from langchain_community.document_loaders import PythonLoader"
   ]
  },
  {
   "cell_type": "code",
   "execution_count": 2,
   "id": "a03745d6",
   "metadata": {},
   "outputs": [],
   "source": [
    "loader = PythonLoader(\"chatbot_with_memory_of_conversation.py\")"
   ]
  },
  {
   "cell_type": "code",
   "execution_count": 5,
   "id": "f22a94be",
   "metadata": {},
   "outputs": [],
   "source": [
    "docs = loader.load()"
   ]
  },
  {
   "cell_type": "code",
   "execution_count": 10,
   "id": "203bbe87",
   "metadata": {},
   "outputs": [
    {
     "name": "stdout",
     "output_type": "stream",
     "text": [
      "import streamlit as st\n",
      "from langchain_openai import ChatOpenAI\n",
      "from langchain_core.messages import SystemMessage, AIMessage, HumanMessage\n",
      "from dotenv import load_dotenv\n",
      "\n",
      "# Load environment variables\n",
      "load_dotenv()\n",
      "\n",
      "# Initialize model\n",
      "model = ChatOpenAI(model='gpt-4')\n",
      "\n",
      "# Set up initial chat history if not already present\n",
      "if 'chat_history' not in st.session_state:\n",
      "    st.session_state.chat_history = [\n",
      "        SystemMessage(content='You are an experienced doctor based in Pakistan, with years of clinical practice in diagnosing and suggesting treatments. Your role is to simulate realistic doctor-patient conversations for educational purposes only. When a user describes symptoms, provide a potential diagnosis along with commonly prescribed medicines in Pakistan, including their generic names and typical dosage. Clearly state that this is a learning simulation and not a substitute for professional medical advice.')\n",
      "    ]\n",
      "    st.session_state.messages = []  # for UI rendering (HumanMessage and AIMessage only)\n",
      "\n",
      "# Title\n",
      "st.title(\"👨‍⚕️ Doctor Chatbot (Educational Purpose Only)\")\n",
      "\n",
      "# Display past chat messages\n",
      "for message in st.session_state.messages:\n",
      "    with st.chat_message(\"user\" if isinstance(message, HumanMessage) else \"assistant\"):\n",
      "        st.markdown(message.content)\n",
      "\n",
      "# Input box at the bottom\n",
      "user_input = st.chat_input(\"Type Here...\")\n",
      "if user_input:\n",
      "    # Show user message in chat\n",
      "    user_msg = HumanMessage(content=user_input)\n",
      "    st.session_state.chat_history.append(user_msg)\n",
      "    st.session_state.messages.append(user_msg)\n",
      "    \n",
      "    with st.chat_message(\"user\"):\n",
      "        st.markdown(user_input)\n",
      "\n",
      "    # Get response from GPT\n",
      "    response = model.invoke(st.session_state.chat_history)\n",
      "    ai_msg = AIMessage(content=response.content)\n",
      "    st.session_state.chat_history.append(ai_msg)\n",
      "    st.session_state.messages.append(ai_msg)\n",
      "\n",
      "    # Show AI response in chat\n",
      "    with st.chat_message(\"assistant\"):\n",
      "        st.markdown(response.content)\n",
      "\n"
     ]
    }
   ],
   "source": [
    "print(docs[0].page_content)"
   ]
  },
  {
   "cell_type": "code",
   "execution_count": 11,
   "id": "a2cf77c3",
   "metadata": {},
   "outputs": [],
   "source": [
    "splitter = RecursiveCharacterTextSplitter.from_language(\n",
    "    language=Language.PYTHON,\n",
    "    chunk_size=300,\n",
    "    chunk_overlap=0\n",
    ")"
   ]
  },
  {
   "cell_type": "code",
   "execution_count": 12,
   "id": "654cec01",
   "metadata": {},
   "outputs": [],
   "source": [
    "text = splitter.split_documents(docs)"
   ]
  },
  {
   "cell_type": "code",
   "execution_count": 15,
   "id": "6393ab1f",
   "metadata": {},
   "outputs": [
    {
     "name": "stdout",
     "output_type": "stream",
     "text": [
      "import streamlit as st\n",
      "from langchain_openai import ChatOpenAI\n",
      "from langchain_core.messages import SystemMessage, AIMessage, HumanMessage\n",
      "from dotenv import load_dotenv\n",
      "\n",
      "# Load environment variables\n",
      "load_dotenv()\n",
      "\n",
      "# Initialize model\n",
      "model = ChatOpenAI(model='gpt-4')\n"
     ]
    }
   ],
   "source": [
    "print(text[0].page_content)"
   ]
  },
  {
   "cell_type": "code",
   "execution_count": null,
   "id": "d0416637",
   "metadata": {},
   "outputs": [],
   "source": []
  },
  {
   "cell_type": "code",
   "execution_count": null,
   "id": "6d992e49",
   "metadata": {},
   "outputs": [],
   "source": []
  }
 ],
 "metadata": {
  "kernelspec": {
   "display_name": "venv",
   "language": "python",
   "name": "python3"
  },
  "language_info": {
   "codemirror_mode": {
    "name": "ipython",
    "version": 3
   },
   "file_extension": ".py",
   "mimetype": "text/x-python",
   "name": "python",
   "nbconvert_exporter": "python",
   "pygments_lexer": "ipython3",
   "version": "3.12.2"
  }
 },
 "nbformat": 4,
 "nbformat_minor": 5
}
