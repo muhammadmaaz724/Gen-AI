{
 "cells": [
  {
   "cell_type": "code",
   "execution_count": 1,
   "id": "4777bdaf",
   "metadata": {},
   "outputs": [],
   "source": [
    "from langchain_community.document_loaders import TextLoader\n",
    "from langchain.text_splitter import CharacterTextSplitter"
   ]
  },
  {
   "cell_type": "code",
   "execution_count": 2,
   "id": "c06f9918",
   "metadata": {},
   "outputs": [],
   "source": [
    "loader = TextLoader(\"Cricket.txt\",encoding='utf-8')"
   ]
  },
  {
   "cell_type": "code",
   "execution_count": 3,
   "id": "fe104a69",
   "metadata": {},
   "outputs": [],
   "source": [
    "docs = loader.load()"
   ]
  },
  {
   "cell_type": "code",
   "execution_count": 5,
   "id": "f31af393",
   "metadata": {},
   "outputs": [
    {
     "name": "stdout",
     "output_type": "stream",
     "text": [
      "\n",
      "Cricket: A Gentleman's Game\n",
      "\n",
      "Cricket is a bat-and-ball sport that has captured the hearts of millions of fans worldwide. It originated in England during the 16th century and has evolved into one of the most popular sports globally, particularly in countries like India, Australia, England, Pakistan, South Africa, Sri Lanka, Bangladesh, and the West Indies.\n",
      "\n",
      "The game is played between two teams of eleven players each. The central aim is to score more runs than the opposing team. Matches are played on an oval field with a rectangular 22-yard long pitch at the center. One team bats to score runs, while the other bowls and fields to restrict runs and dismiss batters.\n",
      "\n",
      "There are three major formats of the game: Test cricket, One Day Internationals (ODIs), and Twenty20 Internationals (T20Is). Test cricket is the oldest and most traditional format, played over five days. ODIs consist of 50 overs per side and are usually played in a single day. T20s are the shortest international format, with each team playing 20 overs.\n",
      "\n",
      "Key elements of cricket include batting, bowling, and fielding. Great batsmen like Sachin Tendulkar, Virat Kohli, Brian Lara, and Ricky Ponting have set numerous records. Legendary bowlers such as Muttiah Muralitharan, Shane Warne, and Wasim Akram have mesmerized fans with their skills.\n",
      "\n",
      "Major international competitions include the ICC Cricket World Cup, ICC T20 World Cup, ICC Champions Trophy, and the World Test Championship. Domestic leagues like the Indian Premier League (IPL), Big Bash League (BBL), and Pakistan Super League (PSL) have also contributed to the sport’s popularity.\n",
      "\n",
      "Cricket is more than a sport; it's a culture and a source of national pride in many countries. It unites people, inspires young athletes, and continues to evolve with new technologies, strategies, and formats.\n",
      "\n",
      "Whether it's the roar of a stadium or the calm of a test match day, cricket remains a beautiful game cherished by millions.\n",
      "\n",
      "\n"
     ]
    }
   ],
   "source": [
    "print(docs[0].page_content)"
   ]
  },
  {
   "cell_type": "code",
   "execution_count": 10,
   "id": "6052419a",
   "metadata": {},
   "outputs": [],
   "source": [
    "splitter = CharacterTextSplitter(\n",
    "    chunk_size = 100,\n",
    "    chunk_overlap = 0,\n",
    "    separator=''\n",
    ")"
   ]
  },
  {
   "cell_type": "code",
   "execution_count": 12,
   "id": "ab14ab60",
   "metadata": {},
   "outputs": [],
   "source": [
    "text = splitter.split_text(docs[0].page_content)"
   ]
  },
  {
   "cell_type": "code",
   "execution_count": 16,
   "id": "6c1a41d7",
   "metadata": {},
   "outputs": [
    {
     "data": {
      "text/plain": [
       "[\"Cricket: A Gentleman's Game\\n\\nCricket is a bat-and-ball sport that has captured the hearts of millio\",\n",
       " 'ns of fans worldwide. It originated in England during the 16th century and has evolved into one of t',\n",
       " 'he most popular sports globally, particularly in countries like India, Australia, England, Pakistan,',\n",
       " 'South Africa, Sri Lanka, Bangladesh, and the West Indies.\\n\\nThe game is played between two teams of',\n",
       " 'eleven players each. The central aim is to score more runs than the opposing team. Matches are playe',\n",
       " 'd on an oval field with a rectangular 22-yard long pitch at the center. One team bats to score runs,',\n",
       " 'while the other bowls and fields to restrict runs and dismiss batters.\\n\\nThere are three major forma',\n",
       " 'ts of the game: Test cricket, One Day Internationals (ODIs), and Twenty20 Internationals (T20Is). Te',\n",
       " 'st cricket is the oldest and most traditional format, played over five days. ODIs consist of 50 over',\n",
       " 's per side and are usually played in a single day. T20s are the shortest international format, with',\n",
       " 'each team playing 20 overs.\\n\\nKey elements of cricket include batting, bowling, and fielding. Great b',\n",
       " 'atsmen like Sachin Tendulkar, Virat Kohli, Brian Lara, and Ricky Ponting have set numerous records.',\n",
       " 'Legendary bowlers such as Muttiah Muralitharan, Shane Warne, and Wasim Akram have mesmerized fans wi',\n",
       " 'th their skills.\\n\\nMajor international competitions include the ICC Cricket World Cup, ICC T20 World',\n",
       " 'Cup, ICC Champions Trophy, and the World Test Championship. Domestic leagues like the Indian Premier',\n",
       " 'League (IPL), Big Bash League (BBL), and Pakistan Super League (PSL) have also contributed to the s',\n",
       " \"port’s popularity.\\n\\nCricket is more than a sport; it's a culture and a source of national pride in m\",\n",
       " 'any countries. It unites people, inspires young athletes, and continues to evolve with new technolog',\n",
       " \"ies, strategies, and formats.\\n\\nWhether it's the roar of a stadium or the calm of a test match day, c\",\n",
       " 'ricket remains a beautiful game cherished by millions.']"
      ]
     },
     "execution_count": 16,
     "metadata": {},
     "output_type": "execute_result"
    }
   ],
   "source": [
    "text"
   ]
  },
  {
   "cell_type": "code",
   "execution_count": 20,
   "id": "8092adeb",
   "metadata": {},
   "outputs": [],
   "source": [
    "doc = splitter.split_documents(docs)"
   ]
  },
  {
   "cell_type": "code",
   "execution_count": 21,
   "id": "7e0a26ab",
   "metadata": {},
   "outputs": [
    {
     "data": {
      "text/plain": [
       "[Document(metadata={'source': 'Cricket.txt'}, page_content=\"Cricket: A Gentleman's Game\\n\\nCricket is a bat-and-ball sport that has captured the hearts of millio\"),\n",
       " Document(metadata={'source': 'Cricket.txt'}, page_content='ns of fans worldwide. It originated in England during the 16th century and has evolved into one of t'),\n",
       " Document(metadata={'source': 'Cricket.txt'}, page_content='he most popular sports globally, particularly in countries like India, Australia, England, Pakistan,'),\n",
       " Document(metadata={'source': 'Cricket.txt'}, page_content='South Africa, Sri Lanka, Bangladesh, and the West Indies.\\n\\nThe game is played between two teams of'),\n",
       " Document(metadata={'source': 'Cricket.txt'}, page_content='eleven players each. The central aim is to score more runs than the opposing team. Matches are playe'),\n",
       " Document(metadata={'source': 'Cricket.txt'}, page_content='d on an oval field with a rectangular 22-yard long pitch at the center. One team bats to score runs,'),\n",
       " Document(metadata={'source': 'Cricket.txt'}, page_content='while the other bowls and fields to restrict runs and dismiss batters.\\n\\nThere are three major forma'),\n",
       " Document(metadata={'source': 'Cricket.txt'}, page_content='ts of the game: Test cricket, One Day Internationals (ODIs), and Twenty20 Internationals (T20Is). Te'),\n",
       " Document(metadata={'source': 'Cricket.txt'}, page_content='st cricket is the oldest and most traditional format, played over five days. ODIs consist of 50 over'),\n",
       " Document(metadata={'source': 'Cricket.txt'}, page_content='s per side and are usually played in a single day. T20s are the shortest international format, with'),\n",
       " Document(metadata={'source': 'Cricket.txt'}, page_content='each team playing 20 overs.\\n\\nKey elements of cricket include batting, bowling, and fielding. Great b'),\n",
       " Document(metadata={'source': 'Cricket.txt'}, page_content='atsmen like Sachin Tendulkar, Virat Kohli, Brian Lara, and Ricky Ponting have set numerous records.'),\n",
       " Document(metadata={'source': 'Cricket.txt'}, page_content='Legendary bowlers such as Muttiah Muralitharan, Shane Warne, and Wasim Akram have mesmerized fans wi'),\n",
       " Document(metadata={'source': 'Cricket.txt'}, page_content='th their skills.\\n\\nMajor international competitions include the ICC Cricket World Cup, ICC T20 World'),\n",
       " Document(metadata={'source': 'Cricket.txt'}, page_content='Cup, ICC Champions Trophy, and the World Test Championship. Domestic leagues like the Indian Premier'),\n",
       " Document(metadata={'source': 'Cricket.txt'}, page_content='League (IPL), Big Bash League (BBL), and Pakistan Super League (PSL) have also contributed to the s'),\n",
       " Document(metadata={'source': 'Cricket.txt'}, page_content=\"port’s popularity.\\n\\nCricket is more than a sport; it's a culture and a source of national pride in m\"),\n",
       " Document(metadata={'source': 'Cricket.txt'}, page_content='any countries. It unites people, inspires young athletes, and continues to evolve with new technolog'),\n",
       " Document(metadata={'source': 'Cricket.txt'}, page_content=\"ies, strategies, and formats.\\n\\nWhether it's the roar of a stadium or the calm of a test match day, c\"),\n",
       " Document(metadata={'source': 'Cricket.txt'}, page_content='ricket remains a beautiful game cherished by millions.')]"
      ]
     },
     "execution_count": 21,
     "metadata": {},
     "output_type": "execute_result"
    }
   ],
   "source": [
    "doc"
   ]
  },
  {
   "cell_type": "code",
   "execution_count": 23,
   "id": "04235d6f",
   "metadata": {},
   "outputs": [
    {
     "data": {
      "text/plain": [
       "\"Cricket: A Gentleman's Game\\n\\nCricket is a bat-and-ball sport that has captured the hearts of millio\""
      ]
     },
     "execution_count": 23,
     "metadata": {},
     "output_type": "execute_result"
    }
   ],
   "source": [
    "doc[0].page_content"
   ]
  },
  {
   "cell_type": "code",
   "execution_count": null,
   "id": "965a0d7e",
   "metadata": {},
   "outputs": [],
   "source": []
  }
 ],
 "metadata": {
  "kernelspec": {
   "display_name": "venv",
   "language": "python",
   "name": "python3"
  },
  "language_info": {
   "codemirror_mode": {
    "name": "ipython",
    "version": 3
   },
   "file_extension": ".py",
   "mimetype": "text/x-python",
   "name": "python",
   "nbconvert_exporter": "python",
   "pygments_lexer": "ipython3",
   "version": "3.12.2"
  }
 },
 "nbformat": 4,
 "nbformat_minor": 5
}
