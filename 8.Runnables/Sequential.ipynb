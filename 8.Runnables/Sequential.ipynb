{
 "cells": [
  {
   "cell_type": "code",
   "execution_count": 5,
   "id": "fb609d39",
   "metadata": {},
   "outputs": [],
   "source": [
    "from langchain_huggingface import HuggingFaceEndpoint,ChatHuggingFace\n",
    "from dotenv import load_dotenv\n",
    "from langchain_core.prompts import PromptTemplate\n",
    "from langchain_core.output_parsers import StrOutputParser\n",
    "from langchain_core.runnables import RunnableSequence"
   ]
  },
  {
   "cell_type": "code",
   "execution_count": 2,
   "id": "071d4fbc",
   "metadata": {},
   "outputs": [],
   "source": [
    "load_dotenv()\n",
    "\n",
    "llm = HuggingFaceEndpoint(\n",
    "    repo_id='google/gemma-2-2b-it',\n",
    "    task='text-generation'\n",
    ")\n",
    "\n",
    "model = ChatHuggingFace(llm=llm)"
   ]
  },
  {
   "cell_type": "code",
   "execution_count": 9,
   "id": "8398eec1",
   "metadata": {},
   "outputs": [],
   "source": [
    "temp1 = PromptTemplate(\n",
    "    template=\"Give me a joke on {topic} \",\n",
    "    input_variables=['topic']\n",
    ")\n",
    "\n",
    "temp2 = PromptTemplate(\n",
    "    template=\"Explain the following joke {text}\",\n",
    "    input_variables=['text']\n",
    ")"
   ]
  },
  {
   "cell_type": "code",
   "execution_count": 10,
   "id": "0a33e2d3",
   "metadata": {},
   "outputs": [],
   "source": [
    "parser = StrOutputParser()"
   ]
  },
  {
   "cell_type": "code",
   "execution_count": 11,
   "id": "73614545",
   "metadata": {},
   "outputs": [],
   "source": [
    "runnable = RunnableSequence(temp1,model,parser,temp2,model,parser)"
   ]
  },
  {
   "cell_type": "code",
   "execution_count": 12,
   "id": "c6613264",
   "metadata": {},
   "outputs": [
    {
     "name": "stdout",
     "output_type": "stream",
     "text": [
      "This is a pun based on the word \"weak\".\n",
      "\n",
      "* **Physical Weakness:**  The joke plays on the concept that Monday is often seen as the \"weak day\" of the week because it comes after a long weekend and just before most people want to enjoy the weekend again. \n",
      "\n",
      "* **Humor from Wordplay:** The humor comes from the use of \"weak day\" in two different contexts: a literal description of a day, and a more figurative sense of the time of week. \n",
      "\n",
      "It's a classic example of a **clean** joke, finding amusement in simple, everyday references that everyone understands. 😊 \n",
      "\n",
      "\n",
      "\n",
      "Want to hear another one? 😄 \n",
      "\n"
     ]
    }
   ],
   "source": [
    "res = runnable.invoke({\"topic\":\"Science\"})\n",
    "print(res)"
   ]
  },
  {
   "cell_type": "code",
   "execution_count": null,
   "id": "f75df402",
   "metadata": {},
   "outputs": [],
   "source": []
  }
 ],
 "metadata": {
  "kernelspec": {
   "display_name": "venv",
   "language": "python",
   "name": "python3"
  },
  "language_info": {
   "codemirror_mode": {
    "name": "ipython",
    "version": 3
   },
   "file_extension": ".py",
   "mimetype": "text/x-python",
   "name": "python",
   "nbconvert_exporter": "python",
   "pygments_lexer": "ipython3",
   "version": "3.12.2"
  }
 },
 "nbformat": 4,
 "nbformat_minor": 5
}
