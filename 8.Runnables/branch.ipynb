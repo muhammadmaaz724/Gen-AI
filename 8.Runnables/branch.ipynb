{
 "cells": [
  {
   "cell_type": "code",
   "execution_count": 34,
   "id": "71ea83d6",
   "metadata": {},
   "outputs": [],
   "source": [
    "from langchain_huggingface import HuggingFaceEndpoint,ChatHuggingFace\n",
    "from dotenv import load_dotenv\n",
    "from langchain_core.prompts import PromptTemplate\n",
    "from langchain_core.output_parsers import StrOutputParser\n",
    "from langchain_core.runnables import RunnableSequence,RunnableBranch,RunnablePassthrough"
   ]
  },
  {
   "cell_type": "code",
   "execution_count": 35,
   "id": "a63fdc6e",
   "metadata": {},
   "outputs": [],
   "source": [
    "load_dotenv()\n",
    "\n",
    "llm = HuggingFaceEndpoint(\n",
    "    repo_id=\"google/gemma-2-2b-it\",\n",
    "    task=\"text-generation\"\n",
    ")\n",
    "\n",
    "model = ChatHuggingFace(llm=llm)"
   ]
  },
  {
   "cell_type": "code",
   "execution_count": 36,
   "id": "6ae25002",
   "metadata": {},
   "outputs": [],
   "source": [
    "prompt1 = PromptTemplate(\n",
    "    template=\"Please generate a report on {topic}\",\n",
    "    input_variables=[\"topic\"]\n",
    ")\n",
    "\n",
    "prompt2 = PromptTemplate(\n",
    "    template=\"Make a summary of the following and also wite at the start that it  is a summary \\n {text}\",\n",
    "    input_variables=[\"text\"]    \n",
    ")\n",
    "\n",
    "parser = StrOutputParser()"
   ]
  },
  {
   "cell_type": "code",
   "execution_count": 37,
   "id": "f171514d",
   "metadata": {},
   "outputs": [],
   "source": [
    "report_gen_chain = RunnableSequence(prompt1,model,parser)"
   ]
  },
  {
   "cell_type": "code",
   "execution_count": 47,
   "id": "a671950c",
   "metadata": {},
   "outputs": [],
   "source": [
    "branch = RunnableBranch(\n",
    "    (lambda x: len(x.split())>50, RunnableSequence(prompt2,model,parser)),\n",
    "    RunnablePassthrough()\n",
    ")"
   ]
  },
  {
   "cell_type": "code",
   "execution_count": 48,
   "id": "9d2af06b",
   "metadata": {},
   "outputs": [],
   "source": [
    "complete_chain = RunnableSequence(report_gen_chain,branch)"
   ]
  },
  {
   "cell_type": "code",
   "execution_count": 49,
   "id": "20d4b941",
   "metadata": {},
   "outputs": [
    {
     "name": "stdout",
     "output_type": "stream",
     "text": [
      "## A Summary of Pakistan's Culture\n",
      "\n",
      "This summary provides an overview of Pakistani culture, highlighting its religious diversity, linguistic richness, traditions, food and festivals, and the complex nature of modernity in this multifaceted nation.\n",
      "\n",
      "**Key Highlights:**\n",
      "\n",
      "* **Religious Mosaic:** Pakistani society embraces Islamic faith, with a significant presence of Shia, Ahmadia and other traditions. Despite religious differences, there is harmony and mutual respect. \n",
      "* **Linguistic Diversity:** 22 official languages reflect the vast linguistic landscape. Urdu, shaped from Sanskrit and Arabic contributions, serves as the national language. \n",
      "* **Vibrant Traditions & Celebrations:** Pakistani culture is characterized by a dynamic blend of tradition and modernity, boasting diverse festivals like Holi and Eid al-Fitr, alongside unique folk music, dance, and artistry. Family ties and hospitality are deeply entrenched.\n",
      "* **Culinary Diversity:**  From rice and dairy dishes to sweet confectioneries like kulfi, Islamic cuisine offers a global appeal.\n",
      "* **Modernity & its impact:** Despite modern economic progress, traditions continue to shape social patterns. Emerging opportunities in arts and crafts provide unique spaces for cultural preservation and expression.\n",
      "* **Challenges:** While acknowledging social patterns and challenges like class and gender disparities, the emphasis is on understanding and respecting the diversity within Pakistani culture.\n",
      "\n",
      "\n",
      "**Crucial Takeaway:** Understanding Pakistani culture requires an open mind, empathy, and a commitment to appreciating its intricate tapestry of traditions, beliefs, and modern influences. This appreciation helps combat stereotypes and foster meaningful connections between the diverse people of Pakistan. \n",
      "\n"
     ]
    }
   ],
   "source": [
    "res = complete_chain.invoke({'topic':'Pakistani Culture'})\n",
    "print(res)"
   ]
  },
  {
   "cell_type": "code",
   "execution_count": null,
   "id": "f7e263a2",
   "metadata": {},
   "outputs": [],
   "source": []
  }
 ],
 "metadata": {
  "kernelspec": {
   "display_name": "venv",
   "language": "python",
   "name": "python3"
  },
  "language_info": {
   "codemirror_mode": {
    "name": "ipython",
    "version": 3
   },
   "file_extension": ".py",
   "mimetype": "text/x-python",
   "name": "python",
   "nbconvert_exporter": "python",
   "pygments_lexer": "ipython3",
   "version": "3.12.2"
  }
 },
 "nbformat": 4,
 "nbformat_minor": 5
}
