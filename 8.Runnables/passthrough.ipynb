{
 "cells": [
  {
   "cell_type": "code",
   "execution_count": 1,
   "id": "4509faa0",
   "metadata": {},
   "outputs": [],
   "source": [
    "from langchain_huggingface import HuggingFaceEndpoint,ChatHuggingFace\n",
    "from dotenv import load_dotenv\n",
    "from langchain_core.prompts import PromptTemplate\n",
    "from langchain_core.output_parsers import StrOutputParser\n",
    "from langchain_core.runnables import RunnableSequence,RunnableParallel,RunnablePassthrough"
   ]
  },
  {
   "cell_type": "code",
   "execution_count": 2,
   "id": "a494bd7c",
   "metadata": {},
   "outputs": [],
   "source": [
    "load_dotenv()\n",
    "\n",
    "llm = HuggingFaceEndpoint(\n",
    "    repo_id='google/gemma-2-2b-it',\n",
    "    task='text-generation'\n",
    ")\n",
    "\n",
    "model = ChatHuggingFace(llm=llm)"
   ]
  },
  {
   "cell_type": "code",
   "execution_count": 3,
   "id": "51879081",
   "metadata": {},
   "outputs": [],
   "source": [
    "prompt1 = PromptTemplate(\n",
    "    template=\"Write me a joke on {topic}\",\n",
    "    input_variables=[\"topic\"]\n",
    ")\n",
    "\n",
    "prompt2 = PromptTemplate(\n",
    "    template=\"Explain the following joke \\n {joke}\"\n",
    ")\n",
    "\n",
    "parser = StrOutputParser()"
   ]
  },
  {
   "cell_type": "code",
   "execution_count": 4,
   "id": "5e9f994c",
   "metadata": {},
   "outputs": [],
   "source": [
    "joke_chain = RunnableSequence(prompt1,model,parser)"
   ]
  },
  {
   "cell_type": "code",
   "execution_count": 5,
   "id": "baf8aedc",
   "metadata": {},
   "outputs": [],
   "source": [
    "exp_chain = RunnableParallel({\n",
    "    \"joke\": RunnablePassthrough(),\n",
    "    \"explaination\": RunnableSequence(prompt2,model,parser)\n",
    "})"
   ]
  },
  {
   "cell_type": "code",
   "execution_count": 6,
   "id": "fc68f93d",
   "metadata": {},
   "outputs": [],
   "source": [
    "combined = RunnableSequence(joke_chain,exp_chain)"
   ]
  },
  {
   "cell_type": "code",
   "execution_count": 7,
   "id": "25c71803",
   "metadata": {},
   "outputs": [
    {
     "name": "stdout",
     "output_type": "stream",
     "text": [
      "{'joke': \"Why do computers get bad colds? \\n\\nBecause they have too many **viruses**! \\n \\nLet me know if you'd like to try another one! 😊 \\n\", 'explaination': 'This joke plays on the double meaning of the word \"viruses.\"\\n\\n* **Computers and Viruses:**  Computers can become infected by \"virus\" in the sense of malware. It refers to programs that harm computer functionality or steal information.\\n* **Biology Viruses:**  We use the word \"virus\" in biology to describe microscopic infectious agents. \\n\\nThe joke humorously suggests that computers get \"bad colds\" because they have too much and are damaged by everything they see, just like when people get sick. \\n\\n\\n\\nLet me know if you\\'d like to try another joke! 😊 \\n'}\n"
     ]
    }
   ],
   "source": [
    "res = combined.invoke({'topic':\"Computer\"})\n",
    "print(res)"
   ]
  },
  {
   "cell_type": "code",
   "execution_count": 8,
   "id": "0cc6ece3",
   "metadata": {},
   "outputs": [
    {
     "name": "stdout",
     "output_type": "stream",
     "text": [
      "Why do computers get bad colds? \n",
      "\n",
      "Because they have too many **viruses**! \n",
      " \n",
      "Let me know if you'd like to try another one! 😊 \n",
      "\n"
     ]
    }
   ],
   "source": [
    "print(res[\"joke\"])"
   ]
  },
  {
   "cell_type": "code",
   "execution_count": 9,
   "id": "430528ce",
   "metadata": {},
   "outputs": [
    {
     "name": "stdout",
     "output_type": "stream",
     "text": [
      "This joke plays on the double meaning of the word \"viruses.\"\n",
      "\n",
      "* **Computers and Viruses:**  Computers can become infected by \"virus\" in the sense of malware. It refers to programs that harm computer functionality or steal information.\n",
      "* **Biology Viruses:**  We use the word \"virus\" in biology to describe microscopic infectious agents. \n",
      "\n",
      "The joke humorously suggests that computers get \"bad colds\" because they have too much and are damaged by everything they see, just like when people get sick. \n",
      "\n",
      "\n",
      "\n",
      "Let me know if you'd like to try another joke! 😊 \n",
      "\n"
     ]
    }
   ],
   "source": [
    "print(res['explaination'])"
   ]
  },
  {
   "cell_type": "code",
   "execution_count": null,
   "id": "f88272c2",
   "metadata": {},
   "outputs": [],
   "source": []
  }
 ],
 "metadata": {
  "kernelspec": {
   "display_name": "venv",
   "language": "python",
   "name": "python3"
  },
  "language_info": {
   "codemirror_mode": {
    "name": "ipython",
    "version": 3
   },
   "file_extension": ".py",
   "mimetype": "text/x-python",
   "name": "python",
   "nbconvert_exporter": "python",
   "pygments_lexer": "ipython3",
   "version": "3.12.2"
  }
 },
 "nbformat": 4,
 "nbformat_minor": 5
}
