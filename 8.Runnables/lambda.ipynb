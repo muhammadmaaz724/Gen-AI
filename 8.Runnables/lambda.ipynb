{
 "cells": [
  {
   "cell_type": "code",
   "execution_count": 6,
   "id": "0d7ff94c",
   "metadata": {},
   "outputs": [],
   "source": [
    "from langchain_huggingface import HuggingFaceEndpoint,ChatHuggingFace\n",
    "from dotenv import load_dotenv\n",
    "from langchain_core.prompts import PromptTemplate\n",
    "from langchain_core.output_parsers import StrOutputParser\n",
    "from langchain_core.runnables import RunnableSequence,RunnableParallel,RunnablePassthrough,RunnableLambda"
   ]
  },
  {
   "cell_type": "code",
   "execution_count": 2,
   "id": "b55db8d0",
   "metadata": {},
   "outputs": [],
   "source": [
    "load_dotenv()\n",
    "\n",
    "llm = HuggingFaceEndpoint(\n",
    "    repo_id='google/gemma-2-2b-it',\n",
    "    task='text-generation'\n",
    ")\n",
    "\n",
    "model = ChatHuggingFace(llm=llm)"
   ]
  },
  {
   "cell_type": "code",
   "execution_count": 3,
   "id": "6117c4b1",
   "metadata": {},
   "outputs": [],
   "source": [
    "prompt1 = PromptTemplate(\n",
    "    template=\"Write a detail note on {topic}\",\n",
    "    input_variables=[\"topic\"]\n",
    ")\n",
    "parser = StrOutputParser()"
   ]
  },
  {
   "cell_type": "code",
   "execution_count": 4,
   "id": "f43dda01",
   "metadata": {},
   "outputs": [],
   "source": [
    "notes_generator = RunnableSequence(prompt1,model,parser)"
   ]
  },
  {
   "cell_type": "code",
   "execution_count": 5,
   "id": "1f577853",
   "metadata": {},
   "outputs": [],
   "source": [
    "def word_count(text):\n",
    "    return len(text.split())"
   ]
  },
  {
   "cell_type": "code",
   "execution_count": 7,
   "id": "e7f19ce0",
   "metadata": {},
   "outputs": [],
   "source": [
    "parrallel_chain = RunnableParallel({\n",
    "    \"notes\": RunnablePassthrough(),\n",
    "    \"count\": RunnableLambda(word_count)\n",
    "})"
   ]
  },
  {
   "cell_type": "code",
   "execution_count": 8,
   "id": "6459de11",
   "metadata": {},
   "outputs": [],
   "source": [
    "combined = RunnableSequence(notes_generator,parrallel_chain)"
   ]
  },
  {
   "cell_type": "code",
   "execution_count": null,
   "id": "e60d20fe",
   "metadata": {},
   "outputs": [],
   "source": [
    "res = combined.invoke({\"topic\":\"Poorty in Pakistan\"})"
   ]
  },
  {
   "cell_type": "code",
   "execution_count": 10,
   "id": "e11f42b5",
   "metadata": {},
   "outputs": [
    {
     "name": "stdout",
     "output_type": "stream",
     "text": [
      "{'notes': \"## Poverty in Pakistan: A Comprehensive Look \\n\\nPoverty in Pakistan is a complex issue with significant impacts on individuals, families, and the nation's overall progress. It's essential to understand a nuanced picture that goes beyond common surface-level discussions.  \\n\\n**Economic Context**\\n\\n* **The Problem's Scale:** Pakistan has a relatively large population (over 220 million), and a substantial portion lives below the international poverty line (less than $2/day).  Approximately 40% of the population is living in extreme poverty, disproportionately affecting rural areas and the younger demographic.\\n* **Causes:**\\n\\n    * **Economic Inequality:** Significant disparities exist in wealth and opportunity, benefiting a select few while leaving many marginalized.\\n    * **Lack of Access to Opportunities:** Limited employment, poor education systems, and inadequate healthcare and infrastructure contribute to poverty cycles.\\n    * **Climate Change:** Pakistan is highly vulnerable to climate shocks like droughts and floods, leading to crop failures, economic hardship, and displacement.\\n    * **Political Instability:** Irregularities in governance and corruption negatively impact economic development, leaving citizens vulnerable to poverty.\\n\\n **Social Impact**\\n\\n* **Health:** Poverty is directly linked to poor health outcomes. Malnutrition, lack of adequate sanitation, and limited access to healthcare lead to high mortality rates, particularly in children. \\n* **Education:** Deprived children often lack access to quality education, hindering both their options and the economic progress of the nation. \\n* **Social Inclusion:** Poverty affects social relationships and leads to a lack of opportunities for upward mobility, exacerbating existing tensions. \\n\\n**Government & Intervention Efforts**\\n\\n* **Social Protection Programs:** Pakistan has implemented social safety nets like Benazir Income Support Program (BISP) which provide cash transfers for vulnerable families. These have limited effectiveness in addressing the multi-faceted issue.\\n* **Economic Growth:**  The government focuses on diversifying the economy, tackling corruption, and developing human capital to create new jobs and opportunities.\\n* **International Aid:** International organizations and donor countries contribute to poverty alleviation initiatives, but the sustainability and impact of these contributions need closer scrutiny.\\n\\n**Moving Forward:**\\n\\n* **Comprehensive Strategies:** Poverty alleviation requires comprehensive, multi-pronged interventions targeted at improving education, healthcare, economic opportunities, and social inclusion.\\n* **Targeted Approach:**  Understanding the root causes of poverty alongside their varied socioeconomic manifestations are crucial to crafting effective interventions. \\n* **Investing in Human Capital:**  Higher education, job training, and access to new technologies can empower individuals and boost their economic potential.\\n* **Sustainable Development:** Long-term solutions should focus on sustainable economic growth, environmental protection, and mitigating climate change.\\n\\n**Further Considerations:**\\n\\n* **Regional Disparities:** Poverty levels vary significantly between regions, highlighting the importance of targeted interventions. \\n* **Influence of Religion and Culture:** Cultural norms and religious beliefs can interact with poverty dynamics, requiring culturally sensitive and nuanced approaches.\\n* **Legacy of Conflict:** Previous conflicts and transitions to democracy have left lasting impacts on poverty levels, hindering long-term progress. \\n\\nBy adopting a holistic and sustainable approach, Pakistan can work towards a future where its citizens enjoy a higher standard of living and access to opportunities. \\n\\n\\n**Key Sources:**\\n* **Pakistan Bureau of Statistics:** This official statistical agency provides a comprehensive source of economic and social data.\\n* **World Bank:** Provides global poverty statistics and reports specific to Pakistan's economic situation.\\n* **United Nations Development Programme (UNDP):** Offers insightful analysis and various development-focused programs in Pakistan.\\n* **World Food Programme (WFP):** Focuses on addressing hunger and poverty through food assistance projects and humanitarian initiatives.  \\n\", 'count': 548}\n"
     ]
    }
   ],
   "source": [
    "print(res)"
   ]
  },
  {
   "cell_type": "code",
   "execution_count": 11,
   "id": "b71e9571",
   "metadata": {},
   "outputs": [
    {
     "name": "stdout",
     "output_type": "stream",
     "text": [
      "## Poverty in Pakistan: A Comprehensive Look \n",
      "\n",
      "Poverty in Pakistan is a complex issue with significant impacts on individuals, families, and the nation's overall progress. It's essential to understand a nuanced picture that goes beyond common surface-level discussions.  \n",
      "\n",
      "**Economic Context**\n",
      "\n",
      "* **The Problem's Scale:** Pakistan has a relatively large population (over 220 million), and a substantial portion lives below the international poverty line (less than $2/day).  Approximately 40% of the population is living in extreme poverty, disproportionately affecting rural areas and the younger demographic.\n",
      "* **Causes:**\n",
      "\n",
      "    * **Economic Inequality:** Significant disparities exist in wealth and opportunity, benefiting a select few while leaving many marginalized.\n",
      "    * **Lack of Access to Opportunities:** Limited employment, poor education systems, and inadequate healthcare and infrastructure contribute to poverty cycles.\n",
      "    * **Climate Change:** Pakistan is highly vulnerable to climate shocks like droughts and floods, leading to crop failures, economic hardship, and displacement.\n",
      "    * **Political Instability:** Irregularities in governance and corruption negatively impact economic development, leaving citizens vulnerable to poverty.\n",
      "\n",
      " **Social Impact**\n",
      "\n",
      "* **Health:** Poverty is directly linked to poor health outcomes. Malnutrition, lack of adequate sanitation, and limited access to healthcare lead to high mortality rates, particularly in children. \n",
      "* **Education:** Deprived children often lack access to quality education, hindering both their options and the economic progress of the nation. \n",
      "* **Social Inclusion:** Poverty affects social relationships and leads to a lack of opportunities for upward mobility, exacerbating existing tensions. \n",
      "\n",
      "**Government & Intervention Efforts**\n",
      "\n",
      "* **Social Protection Programs:** Pakistan has implemented social safety nets like Benazir Income Support Program (BISP) which provide cash transfers for vulnerable families. These have limited effectiveness in addressing the multi-faceted issue.\n",
      "* **Economic Growth:**  The government focuses on diversifying the economy, tackling corruption, and developing human capital to create new jobs and opportunities.\n",
      "* **International Aid:** International organizations and donor countries contribute to poverty alleviation initiatives, but the sustainability and impact of these contributions need closer scrutiny.\n",
      "\n",
      "**Moving Forward:**\n",
      "\n",
      "* **Comprehensive Strategies:** Poverty alleviation requires comprehensive, multi-pronged interventions targeted at improving education, healthcare, economic opportunities, and social inclusion.\n",
      "* **Targeted Approach:**  Understanding the root causes of poverty alongside their varied socioeconomic manifestations are crucial to crafting effective interventions. \n",
      "* **Investing in Human Capital:**  Higher education, job training, and access to new technologies can empower individuals and boost their economic potential.\n",
      "* **Sustainable Development:** Long-term solutions should focus on sustainable economic growth, environmental protection, and mitigating climate change.\n",
      "\n",
      "**Further Considerations:**\n",
      "\n",
      "* **Regional Disparities:** Poverty levels vary significantly between regions, highlighting the importance of targeted interventions. \n",
      "* **Influence of Religion and Culture:** Cultural norms and religious beliefs can interact with poverty dynamics, requiring culturally sensitive and nuanced approaches.\n",
      "* **Legacy of Conflict:** Previous conflicts and transitions to democracy have left lasting impacts on poverty levels, hindering long-term progress. \n",
      "\n",
      "By adopting a holistic and sustainable approach, Pakistan can work towards a future where its citizens enjoy a higher standard of living and access to opportunities. \n",
      "\n",
      "\n",
      "**Key Sources:**\n",
      "* **Pakistan Bureau of Statistics:** This official statistical agency provides a comprehensive source of economic and social data.\n",
      "* **World Bank:** Provides global poverty statistics and reports specific to Pakistan's economic situation.\n",
      "* **United Nations Development Programme (UNDP):** Offers insightful analysis and various development-focused programs in Pakistan.\n",
      "* **World Food Programme (WFP):** Focuses on addressing hunger and poverty through food assistance projects and humanitarian initiatives.  \n",
      "\n"
     ]
    }
   ],
   "source": [
    "print(res[\"notes\"])"
   ]
  },
  {
   "cell_type": "code",
   "execution_count": 12,
   "id": "66610409",
   "metadata": {},
   "outputs": [
    {
     "name": "stdout",
     "output_type": "stream",
     "text": [
      "548\n"
     ]
    }
   ],
   "source": [
    "print(res[\"count\"])"
   ]
  },
  {
   "cell_type": "code",
   "execution_count": null,
   "id": "bee48d23",
   "metadata": {},
   "outputs": [],
   "source": []
  }
 ],
 "metadata": {
  "kernelspec": {
   "display_name": "venv",
   "language": "python",
   "name": "python3"
  },
  "language_info": {
   "codemirror_mode": {
    "name": "ipython",
    "version": 3
   },
   "file_extension": ".py",
   "mimetype": "text/x-python",
   "name": "python",
   "nbconvert_exporter": "python",
   "pygments_lexer": "ipython3",
   "version": "3.12.2"
  }
 },
 "nbformat": 4,
 "nbformat_minor": 5
}
