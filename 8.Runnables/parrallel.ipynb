{
 "cells": [
  {
   "cell_type": "code",
   "execution_count": 2,
   "id": "d3c071cc",
   "metadata": {},
   "outputs": [],
   "source": [
    "from langchain_huggingface import HuggingFaceEndpoint,ChatHuggingFace\n",
    "from dotenv import load_dotenv\n",
    "from langchain_core.prompts import PromptTemplate\n",
    "from langchain_core.output_parsers import StrOutputParser\n",
    "from langchain_core.runnables import RunnableSequence,RunnableParallel"
   ]
  },
  {
   "cell_type": "code",
   "execution_count": 3,
   "id": "30d85f21",
   "metadata": {},
   "outputs": [],
   "source": [
    "load_dotenv()\n",
    "\n",
    "llm = HuggingFaceEndpoint(\n",
    "    repo_id='google/gemma-2-2b-it',\n",
    "    task='text-generation'\n",
    ")\n",
    "\n",
    "model = ChatHuggingFace(llm=llm)"
   ]
  },
  {
   "cell_type": "code",
   "execution_count": null,
   "id": "ad02a1ee",
   "metadata": {},
   "outputs": [],
   "source": [
    "temp1 = PromptTemplate(\n",
    "    template=\"Generate a Tweet on the topic: {topic}\",\n",
    "    input_variables=['topic']\n",
    ")\n",
    "\n",
    "temp2 = PromptTemplate(\n",
    "    template='Write a linkdin post on the topic: {topic}',\n",
    "    input_variables=['topic']\n",
    ")"
   ]
  },
  {
   "cell_type": "code",
   "execution_count": 5,
   "id": "71d9a455",
   "metadata": {},
   "outputs": [],
   "source": [
    "parser = StrOutputParser()"
   ]
  },
  {
   "cell_type": "code",
   "execution_count": 7,
   "id": "4eaa9c03",
   "metadata": {},
   "outputs": [],
   "source": [
    "runnable = RunnableParallel({\n",
    "    \"tweet\": RunnableSequence(temp1,model,parser),\n",
    "    \"linkdin\": RunnableSequence(temp2,model,parser)\n",
    "})"
   ]
  },
  {
   "cell_type": "code",
   "execution_count": 9,
   "id": "acda0a8f",
   "metadata": {},
   "outputs": [
    {
     "name": "stdout",
     "output_type": "stream",
     "text": [
      "{'tweet': \"Here are a few Tweet options about the Big Bang: 💥🌟\\n\\n**Short & Sweet:**\\n\\n*  The Big Bang wasn't just a bang, it was the start of everything! 🚀  #Space #Science \\n* Ever wondered what the universe was like before the Big Bang?  🤯 It's mind-blowing what scientists know! #AstroPhysics\\n* Is this a trillion year old question?  Why did it all begin? 🤔 #BigBang #Cosmology\\n\\n**Provocative:**\\n\\n* Was the Big Bang truly an incident, or a process of evolution in its own right? Think about it. 🙃 #BigBangTheory #Philosophy \\n* What if the Big Bang wasn't a bang, but a gasp of creation? 👀 #COSMO \\n\\n**For Education:**\\n\\n*  The Big Bang is the prevailing theory that describes the origin of our universe.  Read more about it: [Link to relevant resource]  #SpaceExploration #NASA\\n\\n**For Fun:**\\n\\n*  Got a lot of Big Bang trinity energy? Do things make sense now? 🤔 #BigBangDay #Funnyfacts \\n\\n**Tips for posting:**\\n* Use relevant hashtags such as #BigBang #Space #Astronomy.  \\n* Add a compelling image or video related to the topic. \\n\\n\\nI hope this helps! 😊 \\n\", 'linkdin': 'Our universe started with a **BOOM**! 💥 The Big Bang, a mind-blowing event about 13.8 billion years ago, created everything we know and love (including this tweet!). #BigBang #ScienceLearning  🌎 ✨ 🧠 🚀'}\n"
     ]
    }
   ],
   "source": [
    "res = runnable.invoke({'topic':\"Big Bang\"})\n",
    "print(res)"
   ]
  },
  {
   "cell_type": "code",
   "execution_count": 10,
   "id": "ae110bb2",
   "metadata": {},
   "outputs": [
    {
     "name": "stdout",
     "output_type": "stream",
     "text": [
      "Here are a few Tweet options about the Big Bang: 💥🌟\n",
      "\n",
      "**Short & Sweet:**\n",
      "\n",
      "*  The Big Bang wasn't just a bang, it was the start of everything! 🚀  #Space #Science \n",
      "* Ever wondered what the universe was like before the Big Bang?  🤯 It's mind-blowing what scientists know! #AstroPhysics\n",
      "* Is this a trillion year old question?  Why did it all begin? 🤔 #BigBang #Cosmology\n",
      "\n",
      "**Provocative:**\n",
      "\n",
      "* Was the Big Bang truly an incident, or a process of evolution in its own right? Think about it. 🙃 #BigBangTheory #Philosophy \n",
      "* What if the Big Bang wasn't a bang, but a gasp of creation? 👀 #COSMO \n",
      "\n",
      "**For Education:**\n",
      "\n",
      "*  The Big Bang is the prevailing theory that describes the origin of our universe.  Read more about it: [Link to relevant resource]  #SpaceExploration #NASA\n",
      "\n",
      "**For Fun:**\n",
      "\n",
      "*  Got a lot of Big Bang trinity energy? Do things make sense now? 🤔 #BigBangDay #Funnyfacts \n",
      "\n",
      "**Tips for posting:**\n",
      "* Use relevant hashtags such as #BigBang #Space #Astronomy.  \n",
      "* Add a compelling image or video related to the topic. \n",
      "\n",
      "\n",
      "I hope this helps! 😊 \n",
      "\n"
     ]
    }
   ],
   "source": [
    "print(res['tweet'])"
   ]
  },
  {
   "cell_type": "code",
   "execution_count": 11,
   "id": "11197119",
   "metadata": {},
   "outputs": [
    {
     "name": "stdout",
     "output_type": "stream",
     "text": [
      "Our universe started with a **BOOM**! 💥 The Big Bang, a mind-blowing event about 13.8 billion years ago, created everything we know and love (including this tweet!). #BigBang #ScienceLearning  🌎 ✨ 🧠 🚀\n"
     ]
    }
   ],
   "source": [
    "print(res[\"linkdin\"])"
   ]
  },
  {
   "cell_type": "code",
   "execution_count": null,
   "id": "06132630",
   "metadata": {},
   "outputs": [],
   "source": []
  }
 ],
 "metadata": {
  "kernelspec": {
   "display_name": "venv",
   "language": "python",
   "name": "python3"
  },
  "language_info": {
   "codemirror_mode": {
    "name": "ipython",
    "version": 3
   },
   "file_extension": ".py",
   "mimetype": "text/x-python",
   "name": "python",
   "nbconvert_exporter": "python",
   "pygments_lexer": "ipython3",
   "version": "3.12.2"
  }
 },
 "nbformat": 4,
 "nbformat_minor": 5
}
