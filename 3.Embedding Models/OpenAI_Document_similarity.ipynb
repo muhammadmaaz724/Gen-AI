{
 "cells": [
  {
   "cell_type": "code",
   "execution_count": 5,
   "id": "c68871ad",
   "metadata": {},
   "outputs": [],
   "source": [
    "from langchain_openai import OpenAIEmbeddings\n",
    "from dotenv import load_dotenv\n",
    "from sklearn.metrics.pairwise import cosine_similarity"
   ]
  },
  {
   "cell_type": "code",
   "execution_count": 2,
   "id": "cbfb28f3",
   "metadata": {},
   "outputs": [],
   "source": [
    "load_dotenv()\n",
    "embeddings = OpenAIEmbeddings(model='text-embedding-3-large',dimensions=300)"
   ]
  },
  {
   "cell_type": "code",
   "execution_count": 3,
   "id": "497d6e17",
   "metadata": {},
   "outputs": [],
   "source": [
    "query = \"What is Islamabad?\"\n",
    "\n",
    "documents = [\n",
    "    \"I am from Pakistan.\",\n",
    "    \"Islamabad is the capital of Pakistan\",\n",
    "    \"Lahore is in Pakistan\",\n",
    "    \"out software house is in lahore\"\n",
    "]"
   ]
  },
  {
   "cell_type": "code",
   "execution_count": 4,
   "id": "bb93a0d6",
   "metadata": {},
   "outputs": [],
   "source": [
    "documents_embeddings = embeddings.embed_documents(documents)\n",
    "query_embeddings = embeddings.embed_query(query)"
   ]
  },
  {
   "cell_type": "code",
   "execution_count": 6,
   "id": "388d7406",
   "metadata": {},
   "outputs": [],
   "source": [
    "scores = cosine_similarity([query_embeddings],documents_embeddings)[0]"
   ]
  },
  {
   "cell_type": "code",
   "execution_count": 7,
   "id": "d85d1e45",
   "metadata": {},
   "outputs": [],
   "source": [
    "index, score = sorted(list(enumerate(scores)),key=lambda x:x[1])[-1]"
   ]
  },
  {
   "cell_type": "code",
   "execution_count": 8,
   "id": "bf469c38",
   "metadata": {},
   "outputs": [
    {
     "name": "stdout",
     "output_type": "stream",
     "text": [
      "What is Islamabad?\n",
      "Islamabad is the capital of Pakistan\n",
      "similarity score is: 0.7942886835128851\n"
     ]
    }
   ],
   "source": [
    "print(query)\n",
    "print(documents[index])\n",
    "print(\"similarity score is:\", score)"
   ]
  },
  {
   "cell_type": "code",
   "execution_count": null,
   "id": "6295007a",
   "metadata": {},
   "outputs": [],
   "source": []
  }
 ],
 "metadata": {
  "kernelspec": {
   "display_name": "venv",
   "language": "python",
   "name": "python3"
  },
  "language_info": {
   "codemirror_mode": {
    "name": "ipython",
    "version": 3
   },
   "file_extension": ".py",
   "mimetype": "text/x-python",
   "name": "python",
   "nbconvert_exporter": "python",
   "pygments_lexer": "ipython3",
   "version": "3.12.2"
  }
 },
 "nbformat": 4,
 "nbformat_minor": 5
}
