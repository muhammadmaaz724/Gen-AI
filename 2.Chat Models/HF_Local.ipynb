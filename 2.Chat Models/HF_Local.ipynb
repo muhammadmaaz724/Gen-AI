{
 "cells": [
  {
   "cell_type": "code",
   "execution_count": 3,
   "id": "77719e57",
   "metadata": {},
   "outputs": [],
   "source": [
    "from langchain_huggingface import ChatHuggingFace,HuggingFacePipeline\n",
    "from dotenv import load_dotenv\n",
    "import os\n",
    "\n",
    "os.environ['HF_HOME'] = 'D:/NLP/huggingface_cache'"
   ]
  },
  {
   "cell_type": "code",
   "execution_count": 4,
   "id": "3c704cdb",
   "metadata": {},
   "outputs": [
    {
     "name": "stderr",
     "output_type": "stream",
     "text": [
      "Device set to use cpu\n"
     ]
    }
   ],
   "source": [
    "llm = HuggingFacePipeline.from_model_id(\n",
    "    model_id= 'TinyLlama/TinyLlama-1.1B-Chat-v1.0',\n",
    "    task='text-generation',\n",
    "    pipeline_kwargs=dict(\n",
    "        temperature = 0.3,\n",
    "        max_new_tokens = 100\n",
    "    )\n",
    ")"
   ]
  },
  {
   "cell_type": "code",
   "execution_count": 5,
   "id": "0cf6a85d",
   "metadata": {},
   "outputs": [],
   "source": [
    "model = ChatHuggingFace(llm=llm)"
   ]
  },
  {
   "cell_type": "code",
   "execution_count": 6,
   "id": "3531ea4a",
   "metadata": {},
   "outputs": [],
   "source": [
    "res = model.invoke(\"Where is Pakistan?\")"
   ]
  },
  {
   "cell_type": "code",
   "execution_count": 7,
   "id": "b7e7ecba",
   "metadata": {},
   "outputs": [
    {
     "name": "stdout",
     "output_type": "stream",
     "text": [
      "<|user|>\n",
      "Where is Pakistan?</s>\n",
      "<|assistant|>\n",
      "Pakistan is a country located in South Asia. It is bordered by Afghanistan to the north, Iran to the west, India to the south, and China to the east. The country is separated from the Indian Ocean by the Arabian Sea and the Bay of Bengal.\n",
      "\n",
      "Pakistan is divided into two main regions: the Punjab in the north and the Sindh in the south. The country's capital and largest city is Islamabad, located\n"
     ]
    }
   ],
   "source": [
    "print(res.content)"
   ]
  },
  {
   "cell_type": "code",
   "execution_count": null,
   "id": "eddd0ff7",
   "metadata": {},
   "outputs": [],
   "source": []
  }
 ],
 "metadata": {
  "kernelspec": {
   "display_name": "venv",
   "language": "python",
   "name": "python3"
  },
  "language_info": {
   "codemirror_mode": {
    "name": "ipython",
    "version": 3
   },
   "file_extension": ".py",
   "mimetype": "text/x-python",
   "name": "python",
   "nbconvert_exporter": "python",
   "pygments_lexer": "ipython3",
   "version": "3.12.2"
  }
 },
 "nbformat": 4,
 "nbformat_minor": 5
}
