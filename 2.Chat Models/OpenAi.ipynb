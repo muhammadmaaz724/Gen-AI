{
 "cells": [
  {
   "cell_type": "markdown",
   "id": "044badbc",
   "metadata": {},
   "source": [
    "# Temperature\n",
    "Temperature is value which determines how much the model results should be factual or creative its value ranges between 0 to 2\n",
    "\n",
    "\n",
    "Factual (math,code,facts) --> 0.0 - 0.3\n",
    "\n",
    "Balanced responce (General QA, Explainations) --> 0.5 - 0.7\n",
    "\n",
    "Creative writing story telling jokes --> 0.9 - 1.2\n",
    "\n",
    "Randomeness (wild ideas, brainstorming) --> 1.3+\n",
    "\n",
    "\n"
   ]
  },
  {
   "cell_type": "code",
   "execution_count": 3,
   "id": "f07f7662",
   "metadata": {},
   "outputs": [],
   "source": [
    "from langchain_openai import ChatOpenAI\n",
    "from dotenv import load_dotenv"
   ]
  },
  {
   "cell_type": "code",
   "execution_count": 4,
   "id": "6f268220",
   "metadata": {},
   "outputs": [],
   "source": [
    "load_dotenv()\n",
    "\n",
    "model = ChatOpenAI(model='gpt-4',temperature=0.3,max_completion_tokens=10)\n",
    "\n",
    "res = model.invoke(\"Who is the presedent of America?\")"
   ]
  },
  {
   "cell_type": "code",
   "execution_count": 5,
   "id": "c7233048",
   "metadata": {},
   "outputs": [
    {
     "name": "stdout",
     "output_type": "stream",
     "text": [
      "As of my last update in October 2021\n"
     ]
    }
   ],
   "source": [
    "print(res.content)"
   ]
  },
  {
   "cell_type": "markdown",
   "id": "16790455",
   "metadata": {},
   "source": [
    "The responce is limited because i have use the Max tokens as 10"
   ]
  },
  {
   "cell_type": "code",
   "execution_count": null,
   "id": "da1504dd",
   "metadata": {},
   "outputs": [],
   "source": []
  }
 ],
 "metadata": {
  "kernelspec": {
   "display_name": "venv",
   "language": "python",
   "name": "python3"
  },
  "language_info": {
   "codemirror_mode": {
    "name": "ipython",
    "version": 3
   },
   "file_extension": ".py",
   "mimetype": "text/x-python",
   "name": "python",
   "nbconvert_exporter": "python",
   "pygments_lexer": "ipython3",
   "version": "3.12.2"
  }
 },
 "nbformat": 4,
 "nbformat_minor": 5
}
