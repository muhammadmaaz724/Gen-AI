{
 "cells": [
  {
   "cell_type": "code",
   "execution_count": 47,
   "id": "710a0d46",
   "metadata": {},
   "outputs": [],
   "source": [
    "from langchain_huggingface import ChatHuggingFace,HuggingFaceEndpoint\n",
    "from dotenv import load_dotenv"
   ]
  },
  {
   "cell_type": "code",
   "execution_count": 59,
   "id": "ea73ffe0",
   "metadata": {},
   "outputs": [],
   "source": [
    "load_dotenv()\n",
    "llm = HuggingFaceEndpoint(\n",
    "    repo_id=\"deepseek-ai/DeepSeek-R1-0528\",\n",
    "    task=\"text-generation\"\n",
    ")"
   ]
  },
  {
   "cell_type": "code",
   "execution_count": 60,
   "id": "2ae0bed1",
   "metadata": {},
   "outputs": [],
   "source": [
    "model = ChatHuggingFace(\n",
    "    llm=llm\n",
    ")"
   ]
  },
  {
   "cell_type": "code",
   "execution_count": 61,
   "id": "99ef2e07",
   "metadata": {},
   "outputs": [],
   "source": [
    "result = model.invoke(\"what is the capital of Pakistan?\")"
   ]
  },
  {
   "cell_type": "code",
   "execution_count": 62,
   "id": "06d0a7fb",
   "metadata": {},
   "outputs": [
    {
     "name": "stdout",
     "output_type": "stream",
     "text": [
      "<think>\n",
      "Okay, the user is asking, \"What is the capital of Pakistan?\" Hmm, this seems like a straightforward geography question. Let me recall the basic facts. \n",
      "\n",
      "Right, Pakistan's capital is Islamabad. But wait, I should double-check because some people might confuse it with Karachi or Lahore, which are larger cities. \n",
      "\n",
      "I remember that Islamabad became the capital in the 1960s, replacing Karachi. It's a planned city, built specifically to be the capital. That might be worth mentioning in case the user is curious about why it's not a more famous city. \n",
      "\n",
      "The user didn't provide much context, so they could be anyone—a student doing homework, a traveler planning a trip, or just someone curious. Since the question is simple, they probably want a quick, clear answer. But I'll add a little extra about its location near Rawalpindi, just in case they need more context. \n",
      "\n",
      "No signs this is a test or trick question—it's likely genuine. I'll keep the response concise but include the key details: the city name, that it's the capital since 1960, and its purpose as a planned city. No need to overcomplicate it.\n",
      "</think>\n",
      "The capital of **Pakistan** is **Islamabad**.\n",
      "\n",
      "Here are a few key points about it:\n",
      "1.  **Purpose-built:** Islamabad was specifically planned and built to serve as Pakistan's capital in the 1960s.\n",
      "2.  **Replaced Karachi:** It officially became the capital in 1967, replacing Karachi.\n",
      "3.  **Location:** It's situated in the northern part of the country, within the Islamabad Capital Territory, near the historic city of Rawalpindi (which houses the military headquarters).\n",
      "\n",
      "So, while Karachi (the largest city) and Lahore (a major cultural center) are often better known internationally, Islamabad is the designated political and administrative capital of Pakistan.\n"
     ]
    }
   ],
   "source": [
    "print(result.content)"
   ]
  },
  {
   "cell_type": "code",
   "execution_count": null,
   "id": "9834494d",
   "metadata": {},
   "outputs": [],
   "source": []
  }
 ],
 "metadata": {
  "kernelspec": {
   "display_name": "venv",
   "language": "python",
   "name": "python3"
  },
  "language_info": {
   "codemirror_mode": {
    "name": "ipython",
    "version": 3
   },
   "file_extension": ".py",
   "mimetype": "text/x-python",
   "name": "python",
   "nbconvert_exporter": "python",
   "pygments_lexer": "ipython3",
   "version": "3.12.2"
  }
 },
 "nbformat": 4,
 "nbformat_minor": 5
}
