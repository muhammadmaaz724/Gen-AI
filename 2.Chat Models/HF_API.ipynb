{
 "cells": [
  {
   "cell_type": "code",
   "execution_count": 1,
   "id": "710a0d46",
   "metadata": {},
   "outputs": [],
   "source": [
    "from langchain_huggingface import ChatHuggingFace,HuggingFaceEndpoint\n",
    "from dotenv import load_dotenv"
   ]
  },
  {
   "cell_type": "code",
   "execution_count": 2,
   "id": "ea73ffe0",
   "metadata": {},
   "outputs": [],
   "source": [
    "load_dotenv()\n",
    "llm = HuggingFaceEndpoint(\n",
    "    repo_id=\"deepseek-ai/DeepSeek-R1-0528\",\n",
    "    task=\"text-generation\"\n",
    ")"
   ]
  },
  {
   "cell_type": "code",
   "execution_count": 3,
   "id": "2ae0bed1",
   "metadata": {},
   "outputs": [],
   "source": [
    "model = ChatHuggingFace(\n",
    "    llm=llm\n",
    ")"
   ]
  },
  {
   "cell_type": "code",
   "execution_count": 4,
   "id": "99ef2e07",
   "metadata": {},
   "outputs": [],
   "source": [
    "result = model.invoke(\"what is the capital of Pakistan?\")"
   ]
  },
  {
   "cell_type": "code",
   "execution_count": 5,
   "id": "06d0a7fb",
   "metadata": {},
   "outputs": [
    {
     "name": "stdout",
     "output_type": "stream",
     "text": [
      "<think>\n",
      "Okay, the user is asking about the capital of Pakistan. This seems like a straightforward geography question. \n",
      "\n",
      "Hmm, I recall that Pakistan has had some capital changes historically. The current capital is Islamabad, but I should double-check to be absolutely sure. \n",
      "\n",
      "Let me think - Karachi was the first capital after independence in 1947, then it moved to Rawalpindi temporarily in 1959. But yes, Islamabad became the purpose-built capital in the 1960s. \n",
      "\n",
      "The user might be a student doing homework, or maybe someone preparing for a quiz. The question is simple but important basic knowledge. \n",
      "\n",
      "I should give the clear answer first - Islamabad - then add brief context about its history and location. The additional information might be helpful if they're studying Pakistan specifically. \n",
      "\n",
      "No need to overcomplicate this. Just state the capital clearly, mention when it became capital, and note its location near the Margalla Hills. The historical capitals are worth mentioning but shouldn't overshadow the main answer. \n",
      "\n",
      "The response should be concise but informative. No signs of confusion in the question - just a direct factual inquiry. I'll keep it simple and accurate.\n",
      "</think>\n",
      "The capital of **Pakistan is Islamabad**.  \n",
      "\n",
      "### Key Details:\n",
      "- **Established as Capital**: 1963 (officially replacing Karachi).\n",
      "- **Location**: Northern Pakistan, within the Islamabad Capital Territory.\n",
      "- **Significance**: A purpose-built city designed by Greek architect Constantinos Apostolou Doxiadis. It's known for its modern infrastructure, green spaces, and proximity to the Margalla Hills.\n",
      "\n",
      "### Historical Context:\n",
      "- **Karachi** was Pakistan's first capital (1947–1959).\n",
      "- **Rawalpindi** served as the interim capital (1959–1963) during Islamabad's construction.  \n",
      "\n",
      "Islamabad remains the political and administrative heart of Pakistan today. 🏛️\n"
     ]
    }
   ],
   "source": [
    "print(result.content)"
   ]
  },
  {
   "cell_type": "code",
   "execution_count": null,
   "id": "9834494d",
   "metadata": {},
   "outputs": [],
   "source": []
  }
 ],
 "metadata": {
  "kernelspec": {
   "display_name": "venv",
   "language": "python",
   "name": "python3"
  },
  "language_info": {
   "codemirror_mode": {
    "name": "ipython",
    "version": 3
   },
   "file_extension": ".py",
   "mimetype": "text/x-python",
   "name": "python",
   "nbconvert_exporter": "python",
   "pygments_lexer": "ipython3",
   "version": "3.12.2"
  }
 },
 "nbformat": 4,
 "nbformat_minor": 5
}
