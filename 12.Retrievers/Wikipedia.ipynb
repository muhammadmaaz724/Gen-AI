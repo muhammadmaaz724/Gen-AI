{
 "cells": [
  {
   "cell_type": "code",
   "execution_count": 1,
   "id": "46927828",
   "metadata": {},
   "outputs": [],
   "source": [
    "from langchain_community.retrievers import WikipediaRetriever"
   ]
  },
  {
   "cell_type": "code",
   "execution_count": 2,
   "id": "b97f9ca4",
   "metadata": {},
   "outputs": [],
   "source": [
    "retriever = WikipediaRetriever(top_k_results=2,lang='en')"
   ]
  },
  {
   "cell_type": "code",
   "execution_count": 3,
   "id": "26563a92",
   "metadata": {},
   "outputs": [],
   "source": [
    "query = \"who is Quaid e Azam?\""
   ]
  },
  {
   "cell_type": "code",
   "execution_count": 4,
   "id": "cafa57b1",
   "metadata": {},
   "outputs": [],
   "source": [
    "docs = retriever.invoke(query)"
   ]
  },
  {
   "cell_type": "code",
   "execution_count": 7,
   "id": "4b26cd49",
   "metadata": {},
   "outputs": [
    {
     "name": "stdout",
     "output_type": "stream",
     "text": [
      "\n",
      "Result 0\n",
      "Muhammad Ali Jinnah (born Mahomedali Jinnahbhai; 25 December 1876 – 11 September 1948) was a barrister, politician, and the founder of Pakistan. Jinnah served as the leader of the All-India Muslim League from 1913 until the inception of Pakistan on 14 August 1947 and then as Pakistan's first governor-general until his death.\n",
      "Born at Wazir Mansion in Karachi, Jinnah was trained as a barrister at Lincoln's Inn in London, England. Upon his return to India, he enrolled at the Bombay High Court, and took an interest in national politics, which eventually replaced his legal practice. Jinnah rose to prominence in the Indian National Congress in the first two decades of the 20th century. In these early years of his political career, Jinnah advocated Hindu–Muslim unity, helping to shape the 1916 Lucknow Pact between the Congress and the All-India Muslim League, in which Jinnah had also become prominent. Jinnah became a key leader in the All-India Home Rule League, and proposed a fourteen-point constitutional reform plan to safeguard the political rights of Muslims in the Indian subcontinent. In 1920, however, Jinnah resigned from the Congress when it agreed to follow a campaign of satyagraha, which he regarded as political anarchy.\n",
      "After joining the All-India Muslim League, Jinnah worked for the rights of Muslims in the subcontinent to protect them from the threat of marginalization in a Hindu-dominated state. In 1940, the Muslim League, led by Jinnah, passed the Lahore Resolution. During the Second World War, the League gained strength while leaders of the Congress were imprisoned, and in the provincial elections held shortly after the war, it won most of the seats reserved for Muslims. Ultimately, the Congress and the Muslim League could not reach a power-sharing formula that would allow the entirety of British India to be united as a single state following independence, leading all parties to agree instead to the independence of a Hindu-majority India, and for a predominantly Muslim state of Pakistan.\n",
      "As the first governor-general of Pakistan, Jinnah worked to establish the new nation's government and policies and to aid the millions of Muslim migrants who had emigrated from regions that became part of the Dominion of India to Pakistan after the independence of both states, personally supervising the establishment of refugee camps. Jinnah died at age 71 in September 1948, just over a year after Pakistan gained independence from the United Kingdom. He left a deep and respected legacy in Pakistan. Several universities and public buildings in Pakistan bear Jinnah's name.  He is revered in Pakistan as the Quaid-e-Azam (\"Great Leader\") and Baba-e-Qaum (\"Father of the Nation\"). His birthday is also observed as a national holiday in the country. According to his biographer, Stanley Wolpert, Jinnah remains Pakistan's greatest leader.\n",
      "\n",
      "\n",
      "== Early years ==\n",
      "\n",
      "\n",
      "=== Family and childhood ===\n",
      "\n",
      "Jinnah's given name at birth was Mahomedali Jinnahbhai, and he likely was born on 25 December 1876, to Jinnahbhai Poonja and his wife Mithibai Jinnah, in a rented apartment on the second floor of Wazir Mansion near Karachi, now in Sindh, Pakistan, but then within the Bombay Presidency of British India. Jinnah's paternal grandfather lived in Gondal state in Kathiawar peninsula (now in Gujarat, India). He himself was a Khoja of Nizari Isma'ili Shia Muslim background from Gujarat, though he later followed the Twelver Shi'a teachings. According to Jinnah, his ancestor was a Rajput from Sahiwal in Punjab who moved into Kathiawar after becoming a Khoja. After his death, his relatives and other witnesses claimed that he had converted in later life to the Sunni sect of Islam.\n",
      "Jinnah was from a wealthy merchant background. His father was a merchant and was born to a family of textile weavers in the village of Paneli in the princely state of Gondal; his mother was from the nearby village of Dhaffa. They had moved to Karachi in 1875, having married before their departure\n",
      "\n",
      "Result 1\n",
      "Quaid-i-Azam University (QAU), founded as the University of Islamabad, is a public research university in Islamabad, Pakistan. Founded as the University of Islamabad in 1967, it was initially dedicated to postgraduate study, but later expanded to an interdisciplinary university offering both undergraduate and postgraduate education. The university became known by its current name in 1976.\n",
      "\n",
      "\n",
      "== Overview ==\n",
      "As of 2015, QAU has grown into the largest university in Islamabad with a total enrollment exceeding 13,000 students. The university is on a 1700 acre (6.9 km2) campus on the foothills of the Margalla. Divided into four faculties and nine affiliated research institutes, QAU is among Pakistan's largest and highest-ranked universities.\n",
      "The university has interacted with international institutions, including the United Nations, University of Tokyo and the ICTP. It counts several public figures and intellectuals among its current and former faculty, researchers, or alumni since its establishment, including Maleeha Lodhi, Nasim Zehra, Shamshad Akhtar, Suhail Zubairy, Abdul Rashid Ghazi, Farzana Aslam, Tasneem Zehra and Salma Zahid. \n",
      "The university is currently led by Dr. Niaz Ahmed Akhtar, and has four different faculties and 38 departments, institutes, schools and centers. \n",
      "\n",
      "\n",
      "== History ==\n",
      "The University of Islamabad was established on 22 July 1967 by the Government of Pakistan. It was renamed as Quaid-i-Azam University in honor of Quaid-e-Azam Muhammad Ali Jinnah, the founder of Pakistan, in 1976, the centennial of his birth. However, the spelling of the university's name was kept different (\"i\" was used instead of \"e\" for the ezāfe that links the two words in Jinnah's title \"Quaid-e-Azam\").\n",
      "The university offered teaching and research programs for PhD and MPhil degrees upon its founding and later offered Master's programs. The university now also offers undergraduate programs in both evening and morning shifts.\n",
      "\n",
      "\n",
      "== Faculties and departments ==\n",
      "Quaid-i-Azam University consists of four faculties. The following departments, institutes, and schools work under these faculties.\n",
      "\n",
      "\n",
      "== Central Library ==\n",
      "The university has central library (CL), named as DR. Raziuddin Siddiqi memorial library situated at the centre of the university campus and having total covered area is approximately 102,500 sq. ft. On 06-02-1999, the Central Library (CL) was renamed the Dr. Raziuddin Siddiqi Mermorial (DRSM) Library in honour of Dr. Raziuddin Siddiqi's illustrious and meritorious achievements as the founding Vice Chancellor of Quaid-i-Azam University. University offers DRSM Library services for faculty and students of the university.\n",
      "\n",
      "\n",
      "=== OPAC ===\n",
      "Provides bibliographic information of print books available in main and seminar libraries of the university\n",
      "\n",
      "\n",
      "=== E-Resources ===\n",
      "Access E-books, E-Journals and open access material related to course oriented and research.\n",
      "\n",
      "\n",
      "=== Seminar libraries ===\n",
      "The main library has its six sub libraries in various departments of the university.\n",
      "\n",
      "\n",
      "=== Electronic thesis/ D-Space ===\n",
      "The link consists of Electronic version of all thesis produced in the QAU by students of Master, M.Phil. and Ph.D. The resource on this link is under development phase.\n",
      "\n",
      "\n",
      "=== Ask librarian ===\n",
      "Ask your question from Chief Librarian via e-mail.\n",
      "\n",
      "\n",
      "=== HEC digital library ===\n",
      "Access to E-books, E-Journals and open access material related to course oriented, research and many many more.\n",
      "\n",
      "\n",
      "=== E-library ===\n",
      "The E-library is the sub office of DRSM. which provides various services to faculty and students.\n",
      "\n",
      "\n",
      "=== E-library quick links ===\n",
      "The section consists of Useful links for Plagiarism, Research Articles and E-Books.\n",
      "\n",
      "\n",
      "== Rankings and reputation ==\n",
      "\n",
      "In the 2024 QS World University Rankings, the university was ranked 315th globally and 86th in Asia. The physics department is ranked 201st–250th, the mathematics department is ranked 150th–200th, the agriculture department is ranked 201st–250th. In the 2010 rankings, the university was ranked 6th in\n"
     ]
    }
   ],
   "source": [
    "for i,doc in enumerate(docs):\n",
    "    print(f\"\\nResult {i}\")\n",
    "    print(doc.page_content)"
   ]
  },
  {
   "cell_type": "code",
   "execution_count": null,
   "id": "dd2707ab",
   "metadata": {},
   "outputs": [],
   "source": []
  }
 ],
 "metadata": {
  "kernelspec": {
   "display_name": "venv",
   "language": "python",
   "name": "python3"
  },
  "language_info": {
   "codemirror_mode": {
    "name": "ipython",
    "version": 3
   },
   "file_extension": ".py",
   "mimetype": "text/x-python",
   "name": "python",
   "nbconvert_exporter": "python",
   "pygments_lexer": "ipython3",
   "version": "3.12.2"
  }
 },
 "nbformat": 4,
 "nbformat_minor": 5
}
