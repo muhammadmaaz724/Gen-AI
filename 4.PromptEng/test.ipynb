{
 "cells": [
  {
   "cell_type": "code",
   "execution_count": 7,
   "id": "08c0b132",
   "metadata": {},
   "outputs": [],
   "source": [
    "from langchain_core.prompts import ChatPromptTemplate, MessagesPlaceholder\n",
    "from langchain_huggingface import ChatHuggingFace,HuggingFaceEndpoint\n",
    "from dotenv import load_dotenv"
   ]
  },
  {
   "cell_type": "code",
   "execution_count": 13,
   "id": "410e7e9e",
   "metadata": {},
   "outputs": [],
   "source": [
    "load_dotenv()\n",
    "llm = HuggingFaceEndpoint(\n",
    "    repo_id=\"meta-llama/Llama-3.2-3B-Instruct\",\n",
    "    task=\"text-generation\"\n",
    ")"
   ]
  },
  {
   "cell_type": "code",
   "execution_count": 14,
   "id": "7937e385",
   "metadata": {},
   "outputs": [],
   "source": [
    "model = ChatHuggingFace(\n",
    "    llm=llm\n",
    ")"
   ]
  },
  {
   "cell_type": "code",
   "execution_count": 19,
   "id": "b3396ed4",
   "metadata": {},
   "outputs": [],
   "source": [
    "chat_template = ChatPromptTemplate([\n",
    "    ('system','you are a helpfull assistant'),\n",
    "    MessagesPlaceholder(variable_name=\"chat_history\"),\n",
    "    ('human','{query}')\n",
    "])\n",
    "\n",
    "chat_history = []"
   ]
  },
  {
   "cell_type": "code",
   "execution_count": 20,
   "id": "e5871679",
   "metadata": {},
   "outputs": [],
   "source": [
    "with open(\"chat_history.txt\") as file:\n",
    "    chat_history.extend(file.readlines())\n",
    "    "
   ]
  },
  {
   "cell_type": "code",
   "execution_count": 26,
   "id": "c7e169a2",
   "metadata": {},
   "outputs": [],
   "source": [
    "prompt = chat_template.invoke({\n",
    "    'chat_history':chat_history,\n",
    "    'query': \"where am i from?\"\n",
    "})"
   ]
  },
  {
   "cell_type": "code",
   "execution_count": 28,
   "id": "3db7c8f7",
   "metadata": {},
   "outputs": [],
   "source": [
    "res = model.invoke(prompt)"
   ]
  },
  {
   "cell_type": "code",
   "execution_count": 29,
   "id": "fad47eb7",
   "metadata": {},
   "outputs": [
    {
     "name": "stdout",
     "output_type": "stream",
     "text": [
      "You didn't mention the location of your houses, but you mentioned you're from Pakistan.\n"
     ]
    }
   ],
   "source": [
    "print(res.content)"
   ]
  },
  {
   "cell_type": "code",
   "execution_count": null,
   "id": "cc62d3ab",
   "metadata": {},
   "outputs": [],
   "source": []
  }
 ],
 "metadata": {
  "kernelspec": {
   "display_name": "venv",
   "language": "python",
   "name": "python3"
  },
  "language_info": {
   "codemirror_mode": {
    "name": "ipython",
    "version": 3
   },
   "file_extension": ".py",
   "mimetype": "text/x-python",
   "name": "python",
   "nbconvert_exporter": "python",
   "pygments_lexer": "ipython3",
   "version": "3.12.2"
  }
 },
 "nbformat": 4,
 "nbformat_minor": 5
}
