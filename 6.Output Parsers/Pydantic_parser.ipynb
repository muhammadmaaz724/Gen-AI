{
 "cells": [
  {
   "cell_type": "code",
   "execution_count": 2,
   "id": "12c035e2",
   "metadata": {},
   "outputs": [],
   "source": [
    "from langchain_huggingface import ChatHuggingFace,HuggingFaceEndpoint\n",
    "from dotenv import load_dotenv\n",
    "\n",
    "load_dotenv()\n",
    "llm = HuggingFaceEndpoint(\n",
    "    repo_id=\"google/gemma-2-2b-it\",\n",
    "    task=\"text-generation\"\n",
    ")\n",
    "\n",
    "model = ChatHuggingFace(\n",
    "    llm=llm\n",
    ")"
   ]
  },
  {
   "cell_type": "code",
   "execution_count": 3,
   "id": "ad338065",
   "metadata": {},
   "outputs": [],
   "source": [
    "from langchain_core.output_parsers import PydanticOutputParser\n",
    "from pydantic import BaseModel,Field\n",
    "from langchain_core.prompts import PromptTemplate"
   ]
  },
  {
   "cell_type": "code",
   "execution_count": 4,
   "id": "28f5bca3",
   "metadata": {},
   "outputs": [],
   "source": [
    "class person(BaseModel):\n",
    "    name: str = Field(description=\"Name of the person\")\n",
    "    age: int = Field(gt=18, description=\"age of the person\")\n",
    "    city: str = Field(description=\"the city in which the person lives\")"
   ]
  },
  {
   "cell_type": "code",
   "execution_count": 5,
   "id": "e4f71a9b",
   "metadata": {},
   "outputs": [],
   "source": [
    "parser = PydanticOutputParser(pydantic_object=person)"
   ]
  },
  {
   "cell_type": "code",
   "execution_count": 6,
   "id": "afc56407",
   "metadata": {},
   "outputs": [],
   "source": [
    "template = PromptTemplate(\n",
    "    template=\"Generate name, age and city of a fictional {country} person \\n {format_ins}\",\n",
    "    input_variables=['country'],\n",
    "    partial_variables={'format_ins': parser.get_format_instructions()}\n",
    ")"
   ]
  },
  {
   "cell_type": "code",
   "execution_count": 7,
   "id": "4b45d15f",
   "metadata": {},
   "outputs": [],
   "source": [
    "chain = template | model | parser"
   ]
  },
  {
   "cell_type": "code",
   "execution_count": 8,
   "id": "c86a1044",
   "metadata": {},
   "outputs": [],
   "source": [
    "res = chain.invoke({'country':'Pakistani'})"
   ]
  },
  {
   "cell_type": "code",
   "execution_count": 9,
   "id": "f69ae655",
   "metadata": {},
   "outputs": [
    {
     "name": "stdout",
     "output_type": "stream",
     "text": [
      "name='Ahmed Khan' age=32 city='Islamabad'\n"
     ]
    }
   ],
   "source": [
    "print(res)"
   ]
  },
  {
   "cell_type": "code",
   "execution_count": null,
   "id": "6e7d0c1a",
   "metadata": {},
   "outputs": [],
   "source": []
  }
 ],
 "metadata": {
  "kernelspec": {
   "display_name": "venv",
   "language": "python",
   "name": "python3"
  },
  "language_info": {
   "codemirror_mode": {
    "name": "ipython",
    "version": 3
   },
   "file_extension": ".py",
   "mimetype": "text/x-python",
   "name": "python",
   "nbconvert_exporter": "python",
   "pygments_lexer": "ipython3",
   "version": "3.12.2"
  }
 },
 "nbformat": 4,
 "nbformat_minor": 5
}
