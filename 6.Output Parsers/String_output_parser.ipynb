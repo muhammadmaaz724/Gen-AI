{
 "cells": [
  {
   "cell_type": "markdown",
   "id": "b894323d",
   "metadata": {},
   "source": [
    "# First without string output parser"
   ]
  },
  {
   "cell_type": "code",
   "execution_count": 1,
   "id": "0d8ed284",
   "metadata": {},
   "outputs": [],
   "source": [
    "from langchain_core.prompts import ChatPromptTemplate, MessagesPlaceholder\n",
    "from langchain_huggingface import ChatHuggingFace,HuggingFaceEndpoint\n",
    "from dotenv import load_dotenv\n",
    "\n",
    "load_dotenv()\n",
    "llm = HuggingFaceEndpoint(\n",
    "    repo_id=\"mistralai/Mixtral-8x7B-Instruct-v0.1\",\n",
    "    task=\"text-generation\"\n",
    ")\n",
    "\n",
    "model = ChatHuggingFace(\n",
    "    llm=llm\n",
    ")"
   ]
  },
  {
   "cell_type": "code",
   "execution_count": 2,
   "id": "d1c364b4",
   "metadata": {},
   "outputs": [],
   "source": [
    "from langchain_core.prompts import PromptTemplate"
   ]
  },
  {
   "cell_type": "code",
   "execution_count": 4,
   "id": "00b1c3d4",
   "metadata": {},
   "outputs": [],
   "source": [
    "template1 = PromptTemplate(\n",
    "    template = 'write a detailed report on {topic}',\n",
    "    input_variables = ['topic']\n",
    ")"
   ]
  },
  {
   "cell_type": "code",
   "execution_count": 5,
   "id": "77ea34f6",
   "metadata": {},
   "outputs": [],
   "source": [
    "template2 = PromptTemplate(\n",
    "    template = 'write a 3 line summary of the following text /n {text}',\n",
    "    input_variables = ['text']\n",
    ")"
   ]
  },
  {
   "cell_type": "code",
   "execution_count": 7,
   "id": "eca1b2ee",
   "metadata": {},
   "outputs": [],
   "source": [
    "prompt1 = template1.invoke({'topic':'black worms'})"
   ]
  },
  {
   "cell_type": "code",
   "execution_count": 8,
   "id": "f9b93d28",
   "metadata": {},
   "outputs": [],
   "source": [
    "res = model.invoke(prompt1)"
   ]
  },
  {
   "cell_type": "code",
   "execution_count": 9,
   "id": "9e4c2560",
   "metadata": {},
   "outputs": [],
   "source": [
    "prompt2 = template2.invoke({'text': res.content})"
   ]
  },
  {
   "cell_type": "code",
   "execution_count": 10,
   "id": "217c3143",
   "metadata": {},
   "outputs": [],
   "source": [
    "res = model.invoke(prompt2)"
   ]
  },
  {
   "cell_type": "code",
   "execution_count": 11,
   "id": "b91a5ad1",
   "metadata": {},
   "outputs": [
    {
     "name": "stdout",
     "output_type": "stream",
     "text": [
      " Blackworms, also known as California blackworms or Lumbriculus variegatus, are small, segmented aquatic worms that are native to North America. They are commonly kept as fish food or used in aquariums as a clean-up crew due to their ability to burrow and feed on microorganisms, algae, and organic matter. They are easy to care for, preferring a temperature range of 50-80°F and a source of water movement. They are high in protein and can be fed to fish either live or frozen. However, it is important to rinse and clean blackworms before feeding them to fish and to monitor the fish's health as they can carry bacteria, parasites and fungus.\n"
     ]
    }
   ],
   "source": [
    "print(res.content)"
   ]
  },
  {
   "cell_type": "code",
   "execution_count": null,
   "id": "c41f1a5d",
   "metadata": {},
   "outputs": [],
   "source": []
  },
  {
   "cell_type": "markdown",
   "id": "b8fb0e4e",
   "metadata": {},
   "source": [
    "# Now with string output parser"
   ]
  },
  {
   "cell_type": "code",
   "execution_count": 12,
   "id": "af4ea982",
   "metadata": {},
   "outputs": [],
   "source": [
    "from langchain_core.prompts import ChatPromptTemplate, MessagesPlaceholder\n",
    "from langchain_huggingface import ChatHuggingFace,HuggingFaceEndpoint\n",
    "from dotenv import load_dotenv\n",
    "\n",
    "load_dotenv()\n",
    "llm = HuggingFaceEndpoint(\n",
    "    repo_id=\"mistralai/Mixtral-8x7B-Instruct-v0.1\",\n",
    "    task=\"text-generation\"\n",
    ")\n",
    "\n",
    "model = ChatHuggingFace(\n",
    "    llm=llm\n",
    ")\n",
    "\n",
    "template1 = PromptTemplate(\n",
    "    template = 'Explain {topic} in detail.',\n",
    "    input_variables = ['topic']\n",
    ")\n",
    "\n",
    "template2 = PromptTemplate(\n",
    "    template = 'give 2 line summary of the following /n {text}',\n",
    "    input_variables = ['text']\n",
    ")"
   ]
  },
  {
   "cell_type": "code",
   "execution_count": 13,
   "id": "caf0c142",
   "metadata": {},
   "outputs": [],
   "source": [
    "from langchain_core.output_parsers import StrOutputParser"
   ]
  },
  {
   "cell_type": "code",
   "execution_count": 14,
   "id": "9a73b225",
   "metadata": {},
   "outputs": [
    {
     "name": "stdout",
     "output_type": "stream",
     "text": [
      " Black holes are regions of space with such strong gravity that nothing can escape, formed by the collapse of massive stars. They can vary in size, affect space-time, and release massive amounts of energy. Despite being called \"black,\" they can be detected indirectly, and recent advancements have helped us understand them more, although many mysteries still remain.\n"
     ]
    }
   ],
   "source": [
    "parser = StrOutputParser()\n",
    "\n",
    "chain = template1 | model | parser | template2 | model | parser \n",
    "\n",
    "res = chain.invoke({'topic': \"black holes\"})\n",
    "\n",
    "print(res)"
   ]
  },
  {
   "cell_type": "code",
   "execution_count": null,
   "id": "b2132100",
   "metadata": {},
   "outputs": [],
   "source": []
  }
 ],
 "metadata": {
  "kernelspec": {
   "display_name": "venv",
   "language": "python",
   "name": "python3"
  },
  "language_info": {
   "codemirror_mode": {
    "name": "ipython",
    "version": 3
   },
   "file_extension": ".py",
   "mimetype": "text/x-python",
   "name": "python",
   "nbconvert_exporter": "python",
   "pygments_lexer": "ipython3",
   "version": "3.12.2"
  }
 },
 "nbformat": 4,
 "nbformat_minor": 5
}
