{
 "cells": [
  {
   "cell_type": "code",
   "execution_count": 21,
   "id": "41aeb321",
   "metadata": {},
   "outputs": [],
   "source": [
    "from langchain_core.prompts import ChatPromptTemplate, MessagesPlaceholder\n",
    "from langchain_huggingface import ChatHuggingFace,HuggingFaceEndpoint\n",
    "from dotenv import load_dotenv\n",
    "\n",
    "load_dotenv()\n",
    "llm = HuggingFaceEndpoint(\n",
    "    repo_id=\"google/gemma-2-2b-it\",\n",
    "    task=\"text-generation\"\n",
    ")\n",
    "\n",
    "model = ChatHuggingFace(\n",
    "    llm=llm\n",
    ")"
   ]
  },
  {
   "cell_type": "code",
   "execution_count": 22,
   "id": "1e1b9684",
   "metadata": {},
   "outputs": [],
   "source": [
    "from langchain.output_parsers import StructuredOutputParser, ResponseSchema\n",
    "from langchain_core.prompts import PromptTemplate"
   ]
  },
  {
   "cell_type": "code",
   "execution_count": 23,
   "id": "b093b7b2",
   "metadata": {},
   "outputs": [],
   "source": [
    "schema = [\n",
    "    ResponseSchema(name='fact1',description=\"fact 1 about the topic\"),\n",
    "    ResponseSchema(name='fact2',description=\"fact 2 about the topic\"),\n",
    "    ResponseSchema(name='fact3',description=\"fact 3 about the topic\")\n",
    "]"
   ]
  },
  {
   "cell_type": "code",
   "execution_count": 24,
   "id": "fd5e4823",
   "metadata": {},
   "outputs": [],
   "source": [
    "parser = StructuredOutputParser.from_response_schemas(schema)"
   ]
  },
  {
   "cell_type": "code",
   "execution_count": 25,
   "id": "02f13b5d",
   "metadata": {},
   "outputs": [],
   "source": [
    "template = PromptTemplate(\n",
    "    template=\"give me 3 facts about the {topic} \\n {format_ins}\",\n",
    "    input_variables=[\"topic\"],\n",
    "    partial_variables={\"format_ins\": parser.get_format_instructions()} \n",
    ")"
   ]
  },
  {
   "cell_type": "code",
   "execution_count": 26,
   "id": "9155107b",
   "metadata": {},
   "outputs": [],
   "source": [
    "chain = template | model | parser"
   ]
  },
  {
   "cell_type": "code",
   "execution_count": 27,
   "id": "96e3cf6b",
   "metadata": {},
   "outputs": [],
   "source": [
    "res = chain.invoke({\"topic\":\"black holes\"})"
   ]
  },
  {
   "cell_type": "code",
   "execution_count": 28,
   "id": "75120ac4",
   "metadata": {},
   "outputs": [
    {
     "name": "stdout",
     "output_type": "stream",
     "text": [
      "{'fact1': 'Black holes are regions in spacetime where gravity is so strong that nothing, not even light, can escape.', 'fact2': 'Black holes are formed when a giant star collapses at the end of its life cycle.', 'fact3': 'While black holes seem like mysterious, monstrous objects, astronomers actively study them using data from the Event Horizon Telescope (EHT).'}\n"
     ]
    }
   ],
   "source": [
    "print(res)"
   ]
  },
  {
   "cell_type": "markdown",
   "id": "59efe9bc",
   "metadata": {},
   "source": [
    "# No data validation\n",
    "if you wanted age : 36\n",
    "\n",
    "and it gave age : 36 years\n",
    "\n",
    "you cannot do anything about it"
   ]
  }
 ],
 "metadata": {
  "kernelspec": {
   "display_name": "venv",
   "language": "python",
   "name": "python3"
  },
  "language_info": {
   "codemirror_mode": {
    "name": "ipython",
    "version": 3
   },
   "file_extension": ".py",
   "mimetype": "text/x-python",
   "name": "python",
   "nbconvert_exporter": "python",
   "pygments_lexer": "ipython3",
   "version": "3.12.2"
  }
 },
 "nbformat": 4,
 "nbformat_minor": 5
}
