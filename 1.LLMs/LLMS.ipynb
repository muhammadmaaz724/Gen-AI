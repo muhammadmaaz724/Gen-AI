{
 "cells": [
  {
   "cell_type": "code",
   "execution_count": 5,
   "id": "d1c950b1",
   "metadata": {},
   "outputs": [],
   "source": [
    "from langchain_openai import OpenAI\n",
    "from dotenv import load_dotenv\n",
    "\n",
    "load_dotenv()\n",
    "\n",
    "llm = OpenAI(model='gpt-3.5-turbo-instruct')\n",
    "\n",
    "result = llm.invoke(\"What is the capital of Pakistan? give some details too.\")"
   ]
  },
  {
   "cell_type": "code",
   "execution_count": 6,
   "id": "12def59b",
   "metadata": {},
   "outputs": [
    {
     "name": "stdout",
     "output_type": "stream",
     "text": [
      "\n",
      "\n",
      "The capital of Pakistan is Islamabad. It is located in the Islamabad Capital Territory in the north-eastern part of the country, bordering the provinces of Punjab and Khyber Pakhtunkhwa. It is situated in the Pothohar Plateau, an area known for its scenic beauty and rolling hills.\n",
      "\n",
      "Islamabad was established as the capital of Pakistan in 1960, replacing Karachi which had served as the capital since the country's independence in 1947. The decision to move the capital was made due to Karachi's overcrowding and its vulnerability to natural disasters.\n",
      "\n",
      "The city was designed by a Greek architect, Constantinos Apostolou Doxiadis, and is known for its modern and organized layout. It is divided into different sectors, each with its own shopping areas, schools, and parks. The city also has a natural lake, Rawal Lake, which provides a scenic backdrop to the city.\n",
      "\n",
      "Islamabad is a major political and administrative center in Pakistan and is home to the country's parliament, Supreme Court, and many government ministries and offices. It is also the headquarters of the Pakistan Armed Forces and hosts several international embassies and consulates.\n",
      "\n",
      "The city has a population of approximately 1.1 million people, making it the \n"
     ]
    }
   ],
   "source": [
    "print(result)"
   ]
  },
  {
   "cell_type": "code",
   "execution_count": null,
   "id": "a84549a5",
   "metadata": {},
   "outputs": [],
   "source": []
  }
 ],
 "metadata": {
  "kernelspec": {
   "display_name": "venv",
   "language": "python",
   "name": "python3"
  },
  "language_info": {
   "codemirror_mode": {
    "name": "ipython",
    "version": 3
   },
   "file_extension": ".py",
   "mimetype": "text/x-python",
   "name": "python",
   "nbconvert_exporter": "python",
   "pygments_lexer": "ipython3",
   "version": "3.12.2"
  }
 },
 "nbformat": 4,
 "nbformat_minor": 5
}
